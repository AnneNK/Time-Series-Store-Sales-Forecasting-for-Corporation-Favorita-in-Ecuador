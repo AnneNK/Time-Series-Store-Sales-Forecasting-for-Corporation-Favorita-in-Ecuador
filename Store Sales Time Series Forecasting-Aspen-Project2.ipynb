{
 "cells": [
  {
   "cell_type": "markdown",
   "id": "958281b6",
   "metadata": {},
   "source": [
    "# Store Sales Forecasting on Corporation Favorita Grocery Stores"
   ]
  },
  {
   "cell_type": "markdown",
   "id": "d4965d47",
   "metadata": {},
   "source": [
    "### Objectives\n",
    "\n",
    "To predict in advance the sales required so as to avoid over-stocking and under-stocking. This will help provide a good customer experience while avoiding losses."
   ]
  },
  {
   "cell_type": "markdown",
   "id": "8611495c",
   "metadata": {},
   "source": [
    "### Hypothesis: Does promotions positively impact overall sales"
   ]
  },
  {
   "cell_type": "markdown",
   "id": "d10b8284",
   "metadata": {},
   "source": [
    "### Research Questions\n",
    "1. Is the train data set complete(has all the required dates)?\n",
    "2. Which dates have the lowest and highest sales for each year?\n",
    "3. Are certain stores selling more products?\n",
    "4. Did the earthquake impact sales?\n",
    "5. Are sales affected by promotions?\n",
    "6. What analysis can we get from the date and its extractable features?\n",
    "7. What is the difference between RMSLE, RMSE, MSE (or why is the MAE greater than all of them?)"
   ]
  },
  {
   "cell_type": "code",
   "execution_count": 1,
   "id": "d77e274c",
   "metadata": {},
   "outputs": [],
   "source": [
    "#import the necessary libraries\n",
    "import pandas as pd\n",
    "import numpy as np\n",
    "import matplotlib.pyplot as plt\n",
    "import seaborn as sns\n",
    "import matplotlib.dates as mdates\n",
    "from datetime import datetime\n",
    "from datetime import date\n",
    "\n",
    "from sklearn.preprocessing import LabelEncoder\n",
    "from sklearn import preprocessing\n",
    "from sklearn.preprocessing import StandardScaler\n",
    "\n",
    "from sklearn.linear_model import LinearRegression\n",
    "from sklearn.tree import DecisionTreeRegressor\n",
    "from sklearn.ensemble import RandomForestRegressor\n",
    "\n",
    "\n",
    "from sklearn.metrics import mean_squared_error\n",
    "from sklearn.metrics import mean_squared_log_error\n",
    "\n",
    "import warnings\n",
    "warnings.filterwarnings(\"ignore\")\n"
   ]
  },
  {
   "cell_type": "code",
   "execution_count": 2,
   "id": "769ee707",
   "metadata": {},
   "outputs": [],
   "source": [
    "#load the datasets and set date as type datetime\n",
    "train_data = pd.read_csv('train.csv', parse_dates =['date'])\n",
    "test_data = pd.read_csv('test.csv', parse_dates =['date'])\n",
    "store_data = pd.read_csv('stores.csv')\n",
    "transaction_data = pd.read_csv('transactions.csv', parse_dates =['date'])\n",
    "sample_submission = pd.read_csv('sample_submission.csv')\n",
    "oil_data = pd.read_csv('oil.csv', parse_dates =['date'])\n",
    "holidays_events = pd.read_csv('holidays_events.csv',parse_dates =['date'] )"
   ]
  },
  {
   "cell_type": "markdown",
   "id": "04c54ea1",
   "metadata": {},
   "source": [
    "### Checking out each dataset\n"
   ]
  },
  {
   "cell_type": "code",
   "execution_count": 3,
   "id": "05eecefc",
   "metadata": {},
   "outputs": [
    {
     "data": {
      "text/html": [
       "<div>\n",
       "<style scoped>\n",
       "    .dataframe tbody tr th:only-of-type {\n",
       "        vertical-align: middle;\n",
       "    }\n",
       "\n",
       "    .dataframe tbody tr th {\n",
       "        vertical-align: top;\n",
       "    }\n",
       "\n",
       "    .dataframe thead th {\n",
       "        text-align: right;\n",
       "    }\n",
       "</style>\n",
       "<table border=\"1\" class=\"dataframe\">\n",
       "  <thead>\n",
       "    <tr style=\"text-align: right;\">\n",
       "      <th></th>\n",
       "      <th>id</th>\n",
       "      <th>date</th>\n",
       "      <th>store_nbr</th>\n",
       "      <th>family</th>\n",
       "      <th>sales</th>\n",
       "      <th>onpromotion</th>\n",
       "    </tr>\n",
       "  </thead>\n",
       "  <tbody>\n",
       "    <tr>\n",
       "      <th>0</th>\n",
       "      <td>0</td>\n",
       "      <td>2013-01-01</td>\n",
       "      <td>1</td>\n",
       "      <td>AUTOMOTIVE</td>\n",
       "      <td>0.0</td>\n",
       "      <td>0</td>\n",
       "    </tr>\n",
       "    <tr>\n",
       "      <th>1</th>\n",
       "      <td>1</td>\n",
       "      <td>2013-01-01</td>\n",
       "      <td>1</td>\n",
       "      <td>BABY CARE</td>\n",
       "      <td>0.0</td>\n",
       "      <td>0</td>\n",
       "    </tr>\n",
       "    <tr>\n",
       "      <th>2</th>\n",
       "      <td>2</td>\n",
       "      <td>2013-01-01</td>\n",
       "      <td>1</td>\n",
       "      <td>BEAUTY</td>\n",
       "      <td>0.0</td>\n",
       "      <td>0</td>\n",
       "    </tr>\n",
       "    <tr>\n",
       "      <th>3</th>\n",
       "      <td>3</td>\n",
       "      <td>2013-01-01</td>\n",
       "      <td>1</td>\n",
       "      <td>BEVERAGES</td>\n",
       "      <td>0.0</td>\n",
       "      <td>0</td>\n",
       "    </tr>\n",
       "    <tr>\n",
       "      <th>4</th>\n",
       "      <td>4</td>\n",
       "      <td>2013-01-01</td>\n",
       "      <td>1</td>\n",
       "      <td>BOOKS</td>\n",
       "      <td>0.0</td>\n",
       "      <td>0</td>\n",
       "    </tr>\n",
       "  </tbody>\n",
       "</table>\n",
       "</div>"
      ],
      "text/plain": [
       "   id       date  store_nbr      family  sales  onpromotion\n",
       "0   0 2013-01-01          1  AUTOMOTIVE    0.0            0\n",
       "1   1 2013-01-01          1   BABY CARE    0.0            0\n",
       "2   2 2013-01-01          1      BEAUTY    0.0            0\n",
       "3   3 2013-01-01          1   BEVERAGES    0.0            0\n",
       "4   4 2013-01-01          1       BOOKS    0.0            0"
      ]
     },
     "execution_count": 3,
     "metadata": {},
     "output_type": "execute_result"
    }
   ],
   "source": [
    "# Train data\n",
    "train_data.head()\n"
   ]
  },
  {
   "cell_type": "code",
   "execution_count": 4,
   "id": "4bf92a78",
   "metadata": {},
   "outputs": [
    {
     "name": "stdout",
     "output_type": "stream",
     "text": [
      "<class 'pandas.core.frame.DataFrame'>\n",
      "RangeIndex: 3000888 entries, 0 to 3000887\n",
      "Data columns (total 6 columns):\n",
      " #   Column       Dtype         \n",
      "---  ------       -----         \n",
      " 0   id           int64         \n",
      " 1   date         datetime64[ns]\n",
      " 2   store_nbr    int64         \n",
      " 3   family       object        \n",
      " 4   sales        float64       \n",
      " 5   onpromotion  int64         \n",
      "dtypes: datetime64[ns](1), float64(1), int64(3), object(1)\n",
      "memory usage: 137.4+ MB\n"
     ]
    }
   ],
   "source": [
    "train_data.info()"
   ]
  },
  {
   "cell_type": "code",
   "execution_count": 5,
   "id": "5d35892a",
   "metadata": {},
   "outputs": [
    {
     "data": {
      "text/html": [
       "<div>\n",
       "<style scoped>\n",
       "    .dataframe tbody tr th:only-of-type {\n",
       "        vertical-align: middle;\n",
       "    }\n",
       "\n",
       "    .dataframe tbody tr th {\n",
       "        vertical-align: top;\n",
       "    }\n",
       "\n",
       "    .dataframe thead th {\n",
       "        text-align: right;\n",
       "    }\n",
       "</style>\n",
       "<table border=\"1\" class=\"dataframe\">\n",
       "  <thead>\n",
       "    <tr style=\"text-align: right;\">\n",
       "      <th></th>\n",
       "      <th>id</th>\n",
       "      <th>date</th>\n",
       "      <th>store_nbr</th>\n",
       "      <th>family</th>\n",
       "      <th>onpromotion</th>\n",
       "    </tr>\n",
       "  </thead>\n",
       "  <tbody>\n",
       "    <tr>\n",
       "      <th>0</th>\n",
       "      <td>3000888</td>\n",
       "      <td>2017-08-16</td>\n",
       "      <td>1</td>\n",
       "      <td>AUTOMOTIVE</td>\n",
       "      <td>0</td>\n",
       "    </tr>\n",
       "    <tr>\n",
       "      <th>1</th>\n",
       "      <td>3000889</td>\n",
       "      <td>2017-08-16</td>\n",
       "      <td>1</td>\n",
       "      <td>BABY CARE</td>\n",
       "      <td>0</td>\n",
       "    </tr>\n",
       "    <tr>\n",
       "      <th>2</th>\n",
       "      <td>3000890</td>\n",
       "      <td>2017-08-16</td>\n",
       "      <td>1</td>\n",
       "      <td>BEAUTY</td>\n",
       "      <td>2</td>\n",
       "    </tr>\n",
       "    <tr>\n",
       "      <th>3</th>\n",
       "      <td>3000891</td>\n",
       "      <td>2017-08-16</td>\n",
       "      <td>1</td>\n",
       "      <td>BEVERAGES</td>\n",
       "      <td>20</td>\n",
       "    </tr>\n",
       "    <tr>\n",
       "      <th>4</th>\n",
       "      <td>3000892</td>\n",
       "      <td>2017-08-16</td>\n",
       "      <td>1</td>\n",
       "      <td>BOOKS</td>\n",
       "      <td>0</td>\n",
       "    </tr>\n",
       "  </tbody>\n",
       "</table>\n",
       "</div>"
      ],
      "text/plain": [
       "        id       date  store_nbr      family  onpromotion\n",
       "0  3000888 2017-08-16          1  AUTOMOTIVE            0\n",
       "1  3000889 2017-08-16          1   BABY CARE            0\n",
       "2  3000890 2017-08-16          1      BEAUTY            2\n",
       "3  3000891 2017-08-16          1   BEVERAGES           20\n",
       "4  3000892 2017-08-16          1       BOOKS            0"
      ]
     },
     "execution_count": 5,
     "metadata": {},
     "output_type": "execute_result"
    }
   ],
   "source": [
    "# Test data\n",
    "test_data.head()"
   ]
  },
  {
   "cell_type": "code",
   "execution_count": 6,
   "id": "82522596",
   "metadata": {},
   "outputs": [
    {
     "name": "stdout",
     "output_type": "stream",
     "text": [
      "<class 'pandas.core.frame.DataFrame'>\n",
      "RangeIndex: 28512 entries, 0 to 28511\n",
      "Data columns (total 5 columns):\n",
      " #   Column       Non-Null Count  Dtype         \n",
      "---  ------       --------------  -----         \n",
      " 0   id           28512 non-null  int64         \n",
      " 1   date         28512 non-null  datetime64[ns]\n",
      " 2   store_nbr    28512 non-null  int64         \n",
      " 3   family       28512 non-null  object        \n",
      " 4   onpromotion  28512 non-null  int64         \n",
      "dtypes: datetime64[ns](1), int64(3), object(1)\n",
      "memory usage: 1.1+ MB\n"
     ]
    }
   ],
   "source": [
    "test_data.info()"
   ]
  },
  {
   "cell_type": "code",
   "execution_count": 7,
   "id": "b9a0497a",
   "metadata": {},
   "outputs": [
    {
     "data": {
      "text/html": [
       "<div>\n",
       "<style scoped>\n",
       "    .dataframe tbody tr th:only-of-type {\n",
       "        vertical-align: middle;\n",
       "    }\n",
       "\n",
       "    .dataframe tbody tr th {\n",
       "        vertical-align: top;\n",
       "    }\n",
       "\n",
       "    .dataframe thead th {\n",
       "        text-align: right;\n",
       "    }\n",
       "</style>\n",
       "<table border=\"1\" class=\"dataframe\">\n",
       "  <thead>\n",
       "    <tr style=\"text-align: right;\">\n",
       "      <th></th>\n",
       "      <th>store_nbr</th>\n",
       "      <th>city</th>\n",
       "      <th>state</th>\n",
       "      <th>type</th>\n",
       "      <th>cluster</th>\n",
       "    </tr>\n",
       "  </thead>\n",
       "  <tbody>\n",
       "    <tr>\n",
       "      <th>0</th>\n",
       "      <td>1</td>\n",
       "      <td>Quito</td>\n",
       "      <td>Pichincha</td>\n",
       "      <td>D</td>\n",
       "      <td>13</td>\n",
       "    </tr>\n",
       "    <tr>\n",
       "      <th>1</th>\n",
       "      <td>2</td>\n",
       "      <td>Quito</td>\n",
       "      <td>Pichincha</td>\n",
       "      <td>D</td>\n",
       "      <td>13</td>\n",
       "    </tr>\n",
       "    <tr>\n",
       "      <th>2</th>\n",
       "      <td>3</td>\n",
       "      <td>Quito</td>\n",
       "      <td>Pichincha</td>\n",
       "      <td>D</td>\n",
       "      <td>8</td>\n",
       "    </tr>\n",
       "    <tr>\n",
       "      <th>3</th>\n",
       "      <td>4</td>\n",
       "      <td>Quito</td>\n",
       "      <td>Pichincha</td>\n",
       "      <td>D</td>\n",
       "      <td>9</td>\n",
       "    </tr>\n",
       "    <tr>\n",
       "      <th>4</th>\n",
       "      <td>5</td>\n",
       "      <td>Santo Domingo</td>\n",
       "      <td>Santo Domingo de los Tsachilas</td>\n",
       "      <td>D</td>\n",
       "      <td>4</td>\n",
       "    </tr>\n",
       "  </tbody>\n",
       "</table>\n",
       "</div>"
      ],
      "text/plain": [
       "   store_nbr           city                           state type  cluster\n",
       "0          1          Quito                       Pichincha    D       13\n",
       "1          2          Quito                       Pichincha    D       13\n",
       "2          3          Quito                       Pichincha    D        8\n",
       "3          4          Quito                       Pichincha    D        9\n",
       "4          5  Santo Domingo  Santo Domingo de los Tsachilas    D        4"
      ]
     },
     "execution_count": 7,
     "metadata": {},
     "output_type": "execute_result"
    }
   ],
   "source": [
    "#Store Data\n",
    "store_data.head()"
   ]
  },
  {
   "cell_type": "code",
   "execution_count": 8,
   "id": "9fbd271e",
   "metadata": {},
   "outputs": [
    {
     "name": "stdout",
     "output_type": "stream",
     "text": [
      "<class 'pandas.core.frame.DataFrame'>\n",
      "RangeIndex: 54 entries, 0 to 53\n",
      "Data columns (total 5 columns):\n",
      " #   Column     Non-Null Count  Dtype \n",
      "---  ------     --------------  ----- \n",
      " 0   store_nbr  54 non-null     int64 \n",
      " 1   city       54 non-null     object\n",
      " 2   state      54 non-null     object\n",
      " 3   type       54 non-null     object\n",
      " 4   cluster    54 non-null     int64 \n",
      "dtypes: int64(2), object(3)\n",
      "memory usage: 2.2+ KB\n"
     ]
    }
   ],
   "source": [
    "store_data.info()"
   ]
  },
  {
   "cell_type": "code",
   "execution_count": 9,
   "id": "6fde8278",
   "metadata": {},
   "outputs": [
    {
     "data": {
      "text/html": [
       "<div>\n",
       "<style scoped>\n",
       "    .dataframe tbody tr th:only-of-type {\n",
       "        vertical-align: middle;\n",
       "    }\n",
       "\n",
       "    .dataframe tbody tr th {\n",
       "        vertical-align: top;\n",
       "    }\n",
       "\n",
       "    .dataframe thead th {\n",
       "        text-align: right;\n",
       "    }\n",
       "</style>\n",
       "<table border=\"1\" class=\"dataframe\">\n",
       "  <thead>\n",
       "    <tr style=\"text-align: right;\">\n",
       "      <th></th>\n",
       "      <th>date</th>\n",
       "      <th>store_nbr</th>\n",
       "      <th>transactions</th>\n",
       "    </tr>\n",
       "  </thead>\n",
       "  <tbody>\n",
       "    <tr>\n",
       "      <th>0</th>\n",
       "      <td>2013-01-01</td>\n",
       "      <td>25</td>\n",
       "      <td>770</td>\n",
       "    </tr>\n",
       "    <tr>\n",
       "      <th>1</th>\n",
       "      <td>2013-01-02</td>\n",
       "      <td>1</td>\n",
       "      <td>2111</td>\n",
       "    </tr>\n",
       "    <tr>\n",
       "      <th>2</th>\n",
       "      <td>2013-01-02</td>\n",
       "      <td>2</td>\n",
       "      <td>2358</td>\n",
       "    </tr>\n",
       "    <tr>\n",
       "      <th>3</th>\n",
       "      <td>2013-01-02</td>\n",
       "      <td>3</td>\n",
       "      <td>3487</td>\n",
       "    </tr>\n",
       "    <tr>\n",
       "      <th>4</th>\n",
       "      <td>2013-01-02</td>\n",
       "      <td>4</td>\n",
       "      <td>1922</td>\n",
       "    </tr>\n",
       "  </tbody>\n",
       "</table>\n",
       "</div>"
      ],
      "text/plain": [
       "        date  store_nbr  transactions\n",
       "0 2013-01-01         25           770\n",
       "1 2013-01-02          1          2111\n",
       "2 2013-01-02          2          2358\n",
       "3 2013-01-02          3          3487\n",
       "4 2013-01-02          4          1922"
      ]
     },
     "execution_count": 9,
     "metadata": {},
     "output_type": "execute_result"
    }
   ],
   "source": [
    "#transcation data\n",
    "transaction_data.head()"
   ]
  },
  {
   "cell_type": "code",
   "execution_count": 10,
   "id": "ffa4314a",
   "metadata": {},
   "outputs": [
    {
     "name": "stdout",
     "output_type": "stream",
     "text": [
      "<class 'pandas.core.frame.DataFrame'>\n",
      "RangeIndex: 83488 entries, 0 to 83487\n",
      "Data columns (total 3 columns):\n",
      " #   Column        Non-Null Count  Dtype         \n",
      "---  ------        --------------  -----         \n",
      " 0   date          83488 non-null  datetime64[ns]\n",
      " 1   store_nbr     83488 non-null  int64         \n",
      " 2   transactions  83488 non-null  int64         \n",
      "dtypes: datetime64[ns](1), int64(2)\n",
      "memory usage: 1.9 MB\n"
     ]
    }
   ],
   "source": [
    "transaction_data.info()"
   ]
  },
  {
   "cell_type": "code",
   "execution_count": 11,
   "id": "0ba91902",
   "metadata": {},
   "outputs": [
    {
     "data": {
      "text/html": [
       "<div>\n",
       "<style scoped>\n",
       "    .dataframe tbody tr th:only-of-type {\n",
       "        vertical-align: middle;\n",
       "    }\n",
       "\n",
       "    .dataframe tbody tr th {\n",
       "        vertical-align: top;\n",
       "    }\n",
       "\n",
       "    .dataframe thead th {\n",
       "        text-align: right;\n",
       "    }\n",
       "</style>\n",
       "<table border=\"1\" class=\"dataframe\">\n",
       "  <thead>\n",
       "    <tr style=\"text-align: right;\">\n",
       "      <th></th>\n",
       "      <th>id</th>\n",
       "      <th>sales</th>\n",
       "    </tr>\n",
       "  </thead>\n",
       "  <tbody>\n",
       "    <tr>\n",
       "      <th>0</th>\n",
       "      <td>3000888</td>\n",
       "      <td>0.0</td>\n",
       "    </tr>\n",
       "    <tr>\n",
       "      <th>1</th>\n",
       "      <td>3000889</td>\n",
       "      <td>0.0</td>\n",
       "    </tr>\n",
       "    <tr>\n",
       "      <th>2</th>\n",
       "      <td>3000890</td>\n",
       "      <td>0.0</td>\n",
       "    </tr>\n",
       "    <tr>\n",
       "      <th>3</th>\n",
       "      <td>3000891</td>\n",
       "      <td>0.0</td>\n",
       "    </tr>\n",
       "    <tr>\n",
       "      <th>4</th>\n",
       "      <td>3000892</td>\n",
       "      <td>0.0</td>\n",
       "    </tr>\n",
       "  </tbody>\n",
       "</table>\n",
       "</div>"
      ],
      "text/plain": [
       "        id  sales\n",
       "0  3000888    0.0\n",
       "1  3000889    0.0\n",
       "2  3000890    0.0\n",
       "3  3000891    0.0\n",
       "4  3000892    0.0"
      ]
     },
     "execution_count": 11,
     "metadata": {},
     "output_type": "execute_result"
    }
   ],
   "source": [
    "#sample submission\n",
    "sample_submission.head()"
   ]
  },
  {
   "cell_type": "code",
   "execution_count": 12,
   "id": "b0f3f1ba",
   "metadata": {},
   "outputs": [
    {
     "name": "stdout",
     "output_type": "stream",
     "text": [
      "<class 'pandas.core.frame.DataFrame'>\n",
      "RangeIndex: 28512 entries, 0 to 28511\n",
      "Data columns (total 2 columns):\n",
      " #   Column  Non-Null Count  Dtype  \n",
      "---  ------  --------------  -----  \n",
      " 0   id      28512 non-null  int64  \n",
      " 1   sales   28512 non-null  float64\n",
      "dtypes: float64(1), int64(1)\n",
      "memory usage: 445.6 KB\n"
     ]
    }
   ],
   "source": [
    "sample_submission.info()"
   ]
  },
  {
   "cell_type": "code",
   "execution_count": 13,
   "id": "d399e213",
   "metadata": {},
   "outputs": [
    {
     "data": {
      "text/html": [
       "<div>\n",
       "<style scoped>\n",
       "    .dataframe tbody tr th:only-of-type {\n",
       "        vertical-align: middle;\n",
       "    }\n",
       "\n",
       "    .dataframe tbody tr th {\n",
       "        vertical-align: top;\n",
       "    }\n",
       "\n",
       "    .dataframe thead th {\n",
       "        text-align: right;\n",
       "    }\n",
       "</style>\n",
       "<table border=\"1\" class=\"dataframe\">\n",
       "  <thead>\n",
       "    <tr style=\"text-align: right;\">\n",
       "      <th></th>\n",
       "      <th>date</th>\n",
       "      <th>dcoilwtico</th>\n",
       "    </tr>\n",
       "  </thead>\n",
       "  <tbody>\n",
       "    <tr>\n",
       "      <th>0</th>\n",
       "      <td>2013-01-01</td>\n",
       "      <td>NaN</td>\n",
       "    </tr>\n",
       "    <tr>\n",
       "      <th>1</th>\n",
       "      <td>2013-01-02</td>\n",
       "      <td>93.14</td>\n",
       "    </tr>\n",
       "    <tr>\n",
       "      <th>2</th>\n",
       "      <td>2013-01-03</td>\n",
       "      <td>92.97</td>\n",
       "    </tr>\n",
       "    <tr>\n",
       "      <th>3</th>\n",
       "      <td>2013-01-04</td>\n",
       "      <td>93.12</td>\n",
       "    </tr>\n",
       "    <tr>\n",
       "      <th>4</th>\n",
       "      <td>2013-01-07</td>\n",
       "      <td>93.20</td>\n",
       "    </tr>\n",
       "  </tbody>\n",
       "</table>\n",
       "</div>"
      ],
      "text/plain": [
       "        date  dcoilwtico\n",
       "0 2013-01-01         NaN\n",
       "1 2013-01-02       93.14\n",
       "2 2013-01-03       92.97\n",
       "3 2013-01-04       93.12\n",
       "4 2013-01-07       93.20"
      ]
     },
     "execution_count": 13,
     "metadata": {},
     "output_type": "execute_result"
    }
   ],
   "source": [
    "#oil data\n",
    "oil_data.head()"
   ]
  },
  {
   "cell_type": "code",
   "execution_count": 14,
   "id": "fb3422d8",
   "metadata": {},
   "outputs": [
    {
     "name": "stdout",
     "output_type": "stream",
     "text": [
      "<class 'pandas.core.frame.DataFrame'>\n",
      "RangeIndex: 1218 entries, 0 to 1217\n",
      "Data columns (total 2 columns):\n",
      " #   Column      Non-Null Count  Dtype         \n",
      "---  ------      --------------  -----         \n",
      " 0   date        1218 non-null   datetime64[ns]\n",
      " 1   dcoilwtico  1175 non-null   float64       \n",
      "dtypes: datetime64[ns](1), float64(1)\n",
      "memory usage: 19.2 KB\n"
     ]
    }
   ],
   "source": [
    "oil_data.info()"
   ]
  },
  {
   "cell_type": "code",
   "execution_count": 15,
   "id": "f9699a3c",
   "metadata": {},
   "outputs": [
    {
     "data": {
      "text/html": [
       "<div>\n",
       "<style scoped>\n",
       "    .dataframe tbody tr th:only-of-type {\n",
       "        vertical-align: middle;\n",
       "    }\n",
       "\n",
       "    .dataframe tbody tr th {\n",
       "        vertical-align: top;\n",
       "    }\n",
       "\n",
       "    .dataframe thead th {\n",
       "        text-align: right;\n",
       "    }\n",
       "</style>\n",
       "<table border=\"1\" class=\"dataframe\">\n",
       "  <thead>\n",
       "    <tr style=\"text-align: right;\">\n",
       "      <th></th>\n",
       "      <th>date</th>\n",
       "      <th>type</th>\n",
       "      <th>locale</th>\n",
       "      <th>locale_name</th>\n",
       "      <th>description</th>\n",
       "      <th>transferred</th>\n",
       "    </tr>\n",
       "  </thead>\n",
       "  <tbody>\n",
       "    <tr>\n",
       "      <th>0</th>\n",
       "      <td>2012-03-02</td>\n",
       "      <td>Holiday</td>\n",
       "      <td>Local</td>\n",
       "      <td>Manta</td>\n",
       "      <td>Fundacion de Manta</td>\n",
       "      <td>False</td>\n",
       "    </tr>\n",
       "    <tr>\n",
       "      <th>1</th>\n",
       "      <td>2012-04-01</td>\n",
       "      <td>Holiday</td>\n",
       "      <td>Regional</td>\n",
       "      <td>Cotopaxi</td>\n",
       "      <td>Provincializacion de Cotopaxi</td>\n",
       "      <td>False</td>\n",
       "    </tr>\n",
       "    <tr>\n",
       "      <th>2</th>\n",
       "      <td>2012-04-12</td>\n",
       "      <td>Holiday</td>\n",
       "      <td>Local</td>\n",
       "      <td>Cuenca</td>\n",
       "      <td>Fundacion de Cuenca</td>\n",
       "      <td>False</td>\n",
       "    </tr>\n",
       "    <tr>\n",
       "      <th>3</th>\n",
       "      <td>2012-04-14</td>\n",
       "      <td>Holiday</td>\n",
       "      <td>Local</td>\n",
       "      <td>Libertad</td>\n",
       "      <td>Cantonizacion de Libertad</td>\n",
       "      <td>False</td>\n",
       "    </tr>\n",
       "    <tr>\n",
       "      <th>4</th>\n",
       "      <td>2012-04-21</td>\n",
       "      <td>Holiday</td>\n",
       "      <td>Local</td>\n",
       "      <td>Riobamba</td>\n",
       "      <td>Cantonizacion de Riobamba</td>\n",
       "      <td>False</td>\n",
       "    </tr>\n",
       "  </tbody>\n",
       "</table>\n",
       "</div>"
      ],
      "text/plain": [
       "        date     type    locale locale_name                    description  \\\n",
       "0 2012-03-02  Holiday     Local       Manta             Fundacion de Manta   \n",
       "1 2012-04-01  Holiday  Regional    Cotopaxi  Provincializacion de Cotopaxi   \n",
       "2 2012-04-12  Holiday     Local      Cuenca            Fundacion de Cuenca   \n",
       "3 2012-04-14  Holiday     Local    Libertad      Cantonizacion de Libertad   \n",
       "4 2012-04-21  Holiday     Local    Riobamba      Cantonizacion de Riobamba   \n",
       "\n",
       "   transferred  \n",
       "0        False  \n",
       "1        False  \n",
       "2        False  \n",
       "3        False  \n",
       "4        False  "
      ]
     },
     "execution_count": 15,
     "metadata": {},
     "output_type": "execute_result"
    }
   ],
   "source": [
    "#holiday events\n",
    "holidays_events.head()"
   ]
  },
  {
   "cell_type": "code",
   "execution_count": 16,
   "id": "8b63b5f5",
   "metadata": {},
   "outputs": [
    {
     "name": "stdout",
     "output_type": "stream",
     "text": [
      "<class 'pandas.core.frame.DataFrame'>\n",
      "RangeIndex: 350 entries, 0 to 349\n",
      "Data columns (total 6 columns):\n",
      " #   Column       Non-Null Count  Dtype         \n",
      "---  ------       --------------  -----         \n",
      " 0   date         350 non-null    datetime64[ns]\n",
      " 1   type         350 non-null    object        \n",
      " 2   locale       350 non-null    object        \n",
      " 3   locale_name  350 non-null    object        \n",
      " 4   description  350 non-null    object        \n",
      " 5   transferred  350 non-null    bool          \n",
      "dtypes: bool(1), datetime64[ns](1), object(4)\n",
      "memory usage: 14.1+ KB\n"
     ]
    }
   ],
   "source": [
    "holidays_events.info()"
   ]
  },
  {
   "cell_type": "markdown",
   "id": "eb453fa8",
   "metadata": {},
   "source": [
    "### Check for missing values in the all the data sets"
   ]
  },
  {
   "cell_type": "code",
   "execution_count": 17,
   "id": "6f22a13c",
   "metadata": {},
   "outputs": [
    {
     "data": {
      "text/plain": [
       "id             0\n",
       "date           0\n",
       "store_nbr      0\n",
       "family         0\n",
       "sales          0\n",
       "onpromotion    0\n",
       "dtype: int64"
      ]
     },
     "execution_count": 17,
     "metadata": {},
     "output_type": "execute_result"
    }
   ],
   "source": [
    "#train data\n",
    "train_data.isna().sum()"
   ]
  },
  {
   "cell_type": "code",
   "execution_count": 18,
   "id": "1ba00135",
   "metadata": {},
   "outputs": [
    {
     "data": {
      "text/plain": [
       "id             0\n",
       "date           0\n",
       "store_nbr      0\n",
       "family         0\n",
       "onpromotion    0\n",
       "dtype: int64"
      ]
     },
     "execution_count": 18,
     "metadata": {},
     "output_type": "execute_result"
    }
   ],
   "source": [
    "#test data\n",
    "test_data.isna().sum()"
   ]
  },
  {
   "cell_type": "code",
   "execution_count": 19,
   "id": "78067a4d",
   "metadata": {},
   "outputs": [
    {
     "data": {
      "text/plain": [
       "store_nbr    0\n",
       "city         0\n",
       "state        0\n",
       "type         0\n",
       "cluster      0\n",
       "dtype: int64"
      ]
     },
     "execution_count": 19,
     "metadata": {},
     "output_type": "execute_result"
    }
   ],
   "source": [
    "# store data\n",
    "store_data.isna().sum()"
   ]
  },
  {
   "cell_type": "code",
   "execution_count": 20,
   "id": "58886ae3",
   "metadata": {},
   "outputs": [
    {
     "data": {
      "text/plain": [
       "date            0\n",
       "store_nbr       0\n",
       "transactions    0\n",
       "dtype: int64"
      ]
     },
     "execution_count": 20,
     "metadata": {},
     "output_type": "execute_result"
    }
   ],
   "source": [
    "#transaction data\n",
    "transaction_data.isna().sum()"
   ]
  },
  {
   "cell_type": "code",
   "execution_count": 21,
   "id": "69f2d0e8",
   "metadata": {},
   "outputs": [
    {
     "data": {
      "text/plain": [
       "id       0\n",
       "sales    0\n",
       "dtype: int64"
      ]
     },
     "execution_count": 21,
     "metadata": {},
     "output_type": "execute_result"
    }
   ],
   "source": [
    "#sample submission\n",
    "sample_submission.isna().sum()"
   ]
  },
  {
   "cell_type": "code",
   "execution_count": 22,
   "id": "e9fff573",
   "metadata": {},
   "outputs": [
    {
     "data": {
      "text/plain": [
       "date           0\n",
       "dcoilwtico    43\n",
       "dtype: int64"
      ]
     },
     "execution_count": 22,
     "metadata": {},
     "output_type": "execute_result"
    }
   ],
   "source": [
    "#oil data\n",
    "oil_data.isna().sum()"
   ]
  },
  {
   "cell_type": "code",
   "execution_count": 23,
   "id": "23f006a7",
   "metadata": {},
   "outputs": [
    {
     "data": {
      "text/plain": [
       "date           0\n",
       "type           0\n",
       "locale         0\n",
       "locale_name    0\n",
       "description    0\n",
       "transferred    0\n",
       "dtype: int64"
      ]
     },
     "execution_count": 23,
     "metadata": {},
     "output_type": "execute_result"
    }
   ],
   "source": [
    "#holidays events\n",
    "holidays_events.isna().sum()"
   ]
  },
  {
   "cell_type": "markdown",
   "id": "c914fcf5",
   "metadata": {},
   "source": [
    "###### Only the Oil Data has 43 missing values choice needs to be made whether to drop them or fill them"
   ]
  },
  {
   "cell_type": "markdown",
   "id": "398aec23",
   "metadata": {},
   "source": [
    "### Visualization"
   ]
  },
  {
   "cell_type": "markdown",
   "id": "3a302dba",
   "metadata": {},
   "source": [
    "#### Train Data"
   ]
  },
  {
   "cell_type": "code",
   "execution_count": 24,
   "id": "ed77e6f7",
   "metadata": {},
   "outputs": [
    {
     "data": {
      "image/png": "[encoded data removed]",
      "text/plain": [
       "<Figure size 1008x360 with 1 Axes>"
      ]
     },
     "metadata": {
      "needs_background": "light"
     },
     "output_type": "display_data"
    }
   ],
   "source": [
    "#checking on the distribution of sales on all the stores\n",
    "sales_dis = train_data.groupby([\"date\", \"store_nbr\",\"onpromotion\"]).sales.sum().reset_index()\n",
    "a = sales_dis.set_index('date')['sales'].plot(figsize=(14, 5))"
   ]
  },
  {
   "cell_type": "markdown",
   "id": "f0503ea6",
   "metadata": {},
   "source": [
    "#### Store Data"
   ]
  },
  {
   "cell_type": "code",
   "execution_count": 25,
   "id": "a0ff120e",
   "metadata": {},
   "outputs": [
    {
     "data": {
      "text/plain": [
       "Text(0.5, 0, 'Count')"
      ]
     },
     "execution_count": 25,
     "metadata": {},
     "output_type": "execute_result"
    },
    {
     "data": {
      "image/png": "[encoded data removed]",
      "text/plain": [
       "<Figure size 720x576 with 1 Axes>"
      ]
     },
     "metadata": {
      "needs_background": "light"
     },
     "output_type": "display_data"
    }
   ],
   "source": [
    "# no of store grouped by type \n",
    "plt.figure(figsize=(10, 8))\n",
    "sns.countplot(data=store_data, x='type',\n",
    "              order=store_data.type.value_counts().index,)\n",
    "plt.title('Number of Stores Grouped By Type',fontweight=\"bold\",fontsize=15)\n",
    "plt.ylabel('Type', fontsize=15)\n",
    "plt.xlabel('Count', fontsize=15)"
   ]
  },
  {
   "cell_type": "markdown",
   "id": "2d8f785d",
   "metadata": {},
   "source": [
    "Group D has the most number of stores."
   ]
  },
  {
   "cell_type": "markdown",
   "id": "99624633",
   "metadata": {},
   "source": [
    "#### Oil Data"
   ]
  },
  {
   "cell_type": "code",
   "execution_count": 26,
   "id": "ee5f28c8",
   "metadata": {},
   "outputs": [
    {
     "data": {
      "image/png": "[encoded data removed]",
      "text/plain": [
       "<Figure size 1080x360 with 1 Axes>"
      ]
     },
     "metadata": {
      "needs_background": "light"
     },
     "output_type": "display_data"
    }
   ],
   "source": [
    "ax = oil_data.plot('date', 'dcoilwtico', title='Trend of Oil prices over the years', figsize=(15,5))"
   ]
  },
  {
   "cell_type": "markdown",
   "id": "8f236843",
   "metadata": {},
   "source": [
    "The oil prices seems to have gone down as the year progressed. This must have hard an impact in the store sales."
   ]
  },
  {
   "cell_type": "markdown",
   "id": "e744af2c",
   "metadata": {},
   "source": [
    "### 1. Is the train data set complete(has all the required dates)?"
   ]
  },
  {
   "cell_type": "code",
   "execution_count": 27,
   "id": "ede2e858",
   "metadata": {},
   "outputs": [],
   "source": [
    "#creating a copy of the train data for analysis\n",
    "train = train_data.copy(deep=True)"
   ]
  },
  {
   "cell_type": "code",
   "execution_count": 28,
   "id": "2a6f491d",
   "metadata": {},
   "outputs": [
    {
     "data": {
      "text/plain": [
       "1684"
      ]
     },
     "execution_count": 28,
     "metadata": {},
     "output_type": "execute_result"
    }
   ],
   "source": [
    "#unique values relate to the dates\n",
    "train['date'].nunique()"
   ]
  },
  {
   "cell_type": "code",
   "execution_count": 29,
   "id": "7c7c453d",
   "metadata": {},
   "outputs": [
    {
     "data": {
      "text/plain": [
       "(Timestamp('2013-01-01 00:00:00'), Timestamp('2017-08-15 00:00:00'))"
      ]
     },
     "execution_count": 29,
     "metadata": {},
     "output_type": "execute_result"
    }
   ],
   "source": [
    "#range of dates expected in the complete data\n",
    "train['date'].min(),train['date'].max()"
   ]
  },
  {
   "cell_type": "code",
   "execution_count": 30,
   "id": "7dc87f37",
   "metadata": {},
   "outputs": [
    {
     "data": {
      "text/plain": [
       "1688"
      ]
     },
     "execution_count": 30,
     "metadata": {},
     "output_type": "execute_result"
    }
   ],
   "source": [
    "#expected values for the data to be complete\n",
    "total = train['date'].max()-train['date'].min()\n",
    "\n",
    "total.days + 1"
   ]
  },
  {
   "cell_type": "code",
   "execution_count": 31,
   "id": "fec5d067",
   "metadata": {},
   "outputs": [
    {
     "data": {
      "text/plain": [
       "DatetimeIndex(['2013-01-01', '2013-01-02', '2013-01-03', '2013-01-04',\n",
       "               '2013-01-05', '2013-01-06', '2013-01-07', '2013-01-08',\n",
       "               '2013-01-09', '2013-01-10',\n",
       "               ...\n",
       "               '2017-08-06', '2017-08-07', '2017-08-08', '2017-08-09',\n",
       "               '2017-08-10', '2017-08-11', '2017-08-12', '2017-08-13',\n",
       "               '2017-08-14', '2017-08-15'],\n",
       "              dtype='datetime64[ns]', length=1688, freq='D')"
      ]
     },
     "execution_count": 31,
     "metadata": {},
     "output_type": "execute_result"
    }
   ],
   "source": [
    "expected_dates = pd.date_range(start=train['date'].min()  , end=train['date'].max())\n",
    "expected_dates"
   ]
  },
  {
   "cell_type": "code",
   "execution_count": 32,
   "id": "d07a13d3",
   "metadata": {},
   "outputs": [
    {
     "name": "stdout",
     "output_type": "stream",
     "text": [
      "DatetimeIndex(['2013-12-25', '2014-12-25', '2015-12-25', '2016-12-25'], dtype='datetime64[ns]', freq=None)\n"
     ]
    }
   ],
   "source": [
    "# show missing dates\n",
    "missing_date_list = pd.date_range(start='2013-01-01', end='2017-08-15').difference(train.date.unique())\n",
    "print(missing_date_list)"
   ]
  },
  {
   "cell_type": "markdown",
   "id": "9e33d0d7",
   "metadata": {},
   "source": [
    "The missing dates on the data fall on the 25th of each year. This is the Christmas Holiday, it can be assumed that the stores are normally closed on this particular day and not in operation."
   ]
  },
  {
   "cell_type": "markdown",
   "id": "cda1ed2e",
   "metadata": {},
   "source": [
    "### 2. Which dates have the lowest and highest sales for each year?"
   ]
  },
  {
   "cell_type": "code",
   "execution_count": 33,
   "id": "093b695e",
   "metadata": {},
   "outputs": [],
   "source": [
    "train = train.set_index('date')"
   ]
  },
  {
   "cell_type": "code",
   "execution_count": 34,
   "id": "298db511",
   "metadata": {},
   "outputs": [],
   "source": [
    "train['Date']= train.index\n",
    "train['Month']= train.index.month"
   ]
  },
  {
   "cell_type": "code",
   "execution_count": 35,
   "id": "fd2315e5",
   "metadata": {},
   "outputs": [],
   "source": [
    "train['Year']= train.index.year\n"
   ]
  },
  {
   "cell_type": "code",
   "execution_count": 36,
   "id": "6a31fdbc",
   "metadata": {},
   "outputs": [
    {
     "data": {
      "text/plain": [
       "<AxesSubplot:xlabel='Year', ylabel='sales'>"
      ]
     },
     "execution_count": 36,
     "metadata": {},
     "output_type": "execute_result"
    },
    {
     "data": {
      "image/png": "[encoded data removed]",
      "text/plain": [
       "<Figure size 432x288 with 1 Axes>"
      ]
     },
     "metadata": {},
     "output_type": "display_data"
    }
   ],
   "source": [
    "sns.set(style = 'whitegrid')\n",
    "sns.boxplot( x= 'Year', y= 'sales', data = train)\n"
   ]
  },
  {
   "cell_type": "code",
   "execution_count": 37,
   "id": "bcfcfaa8",
   "metadata": {},
   "outputs": [
    {
     "data": {
      "text/html": [
       "<div>\n",
       "<style scoped>\n",
       "    .dataframe tbody tr th:only-of-type {\n",
       "        vertical-align: middle;\n",
       "    }\n",
       "\n",
       "    .dataframe tbody tr th {\n",
       "        vertical-align: top;\n",
       "    }\n",
       "\n",
       "    .dataframe thead th {\n",
       "        text-align: right;\n",
       "    }\n",
       "</style>\n",
       "<table border=\"1\" class=\"dataframe\">\n",
       "  <thead>\n",
       "    <tr style=\"text-align: right;\">\n",
       "      <th></th>\n",
       "      <th>min</th>\n",
       "      <th>max</th>\n",
       "    </tr>\n",
       "    <tr>\n",
       "      <th>Year</th>\n",
       "      <th></th>\n",
       "      <th></th>\n",
       "    </tr>\n",
       "  </thead>\n",
       "  <tbody>\n",
       "    <tr>\n",
       "      <th>2013</th>\n",
       "      <td>0.0</td>\n",
       "      <td>46271.000</td>\n",
       "    </tr>\n",
       "    <tr>\n",
       "      <th>2014</th>\n",
       "      <td>0.0</td>\n",
       "      <td>45361.000</td>\n",
       "    </tr>\n",
       "    <tr>\n",
       "      <th>2015</th>\n",
       "      <td>0.0</td>\n",
       "      <td>40351.460</td>\n",
       "    </tr>\n",
       "    <tr>\n",
       "      <th>2016</th>\n",
       "      <td>0.0</td>\n",
       "      <td>124717.000</td>\n",
       "    </tr>\n",
       "    <tr>\n",
       "      <th>2017</th>\n",
       "      <td>0.0</td>\n",
       "      <td>38422.625</td>\n",
       "    </tr>\n",
       "  </tbody>\n",
       "</table>\n",
       "</div>"
      ],
      "text/plain": [
       "      min         max\n",
       "Year                 \n",
       "2013  0.0   46271.000\n",
       "2014  0.0   45361.000\n",
       "2015  0.0   40351.460\n",
       "2016  0.0  124717.000\n",
       "2017  0.0   38422.625"
      ]
     },
     "execution_count": 37,
     "metadata": {},
     "output_type": "execute_result"
    }
   ],
   "source": [
    "yearly_sales = train.groupby('Year').sales.agg(['min', 'max'])\n",
    "yearly_sales"
   ]
  },
  {
   "cell_type": "markdown",
   "id": "b04cd915",
   "metadata": {},
   "source": [
    "It shows that every year there were days where no sales were made. We find that 2016 recorded the highest sale in the given period which is over 100% higher than the maximum sales per day for the other years."
   ]
  },
  {
   "cell_type": "markdown",
   "id": "a49a5851",
   "metadata": {},
   "source": [
    "### 3. Did the earthquake impact sales?"
   ]
  },
  {
   "cell_type": "code",
   "execution_count": 38,
   "id": "353ad34e",
   "metadata": {},
   "outputs": [],
   "source": [
    "train['Date'] = pd.to_datetime(train['Date'])"
   ]
  },
  {
   "cell_type": "code",
   "execution_count": 39,
   "id": "50b44acd",
   "metadata": {},
   "outputs": [],
   "source": [
    "train['Date']= train['Date'].astype(str)"
   ]
  },
  {
   "cell_type": "code",
   "execution_count": 40,
   "id": "3756af74",
   "metadata": {},
   "outputs": [
    {
     "data": {
      "text/html": [
       "<div>\n",
       "<style scoped>\n",
       "    .dataframe tbody tr th:only-of-type {\n",
       "        vertical-align: middle;\n",
       "    }\n",
       "\n",
       "    .dataframe tbody tr th {\n",
       "        vertical-align: top;\n",
       "    }\n",
       "\n",
       "    .dataframe thead th {\n",
       "        text-align: right;\n",
       "    }\n",
       "</style>\n",
       "<table border=\"1\" class=\"dataframe\">\n",
       "  <thead>\n",
       "    <tr style=\"text-align: right;\">\n",
       "      <th></th>\n",
       "      <th>id</th>\n",
       "      <th>store_nbr</th>\n",
       "      <th>family</th>\n",
       "      <th>sales</th>\n",
       "      <th>onpromotion</th>\n",
       "      <th>Date</th>\n",
       "      <th>Month</th>\n",
       "      <th>Year</th>\n",
       "    </tr>\n",
       "    <tr>\n",
       "      <th>date</th>\n",
       "      <th></th>\n",
       "      <th></th>\n",
       "      <th></th>\n",
       "      <th></th>\n",
       "      <th></th>\n",
       "      <th></th>\n",
       "      <th></th>\n",
       "      <th></th>\n",
       "    </tr>\n",
       "  </thead>\n",
       "  <tbody>\n",
       "    <tr>\n",
       "      <th>2016-04-02</th>\n",
       "      <td>2109888</td>\n",
       "      <td>1</td>\n",
       "      <td>AUTOMOTIVE</td>\n",
       "      <td>6.000000</td>\n",
       "      <td>0</td>\n",
       "      <td>2016-04-02</td>\n",
       "      <td>4</td>\n",
       "      <td>2016</td>\n",
       "    </tr>\n",
       "    <tr>\n",
       "      <th>2016-04-02</th>\n",
       "      <td>2109889</td>\n",
       "      <td>1</td>\n",
       "      <td>BABY CARE</td>\n",
       "      <td>0.000000</td>\n",
       "      <td>0</td>\n",
       "      <td>2016-04-02</td>\n",
       "      <td>4</td>\n",
       "      <td>2016</td>\n",
       "    </tr>\n",
       "    <tr>\n",
       "      <th>2016-04-02</th>\n",
       "      <td>2109890</td>\n",
       "      <td>1</td>\n",
       "      <td>BEAUTY</td>\n",
       "      <td>3.000000</td>\n",
       "      <td>0</td>\n",
       "      <td>2016-04-02</td>\n",
       "      <td>4</td>\n",
       "      <td>2016</td>\n",
       "    </tr>\n",
       "    <tr>\n",
       "      <th>2016-04-02</th>\n",
       "      <td>2109891</td>\n",
       "      <td>1</td>\n",
       "      <td>BEVERAGES</td>\n",
       "      <td>2317.000000</td>\n",
       "      <td>2</td>\n",
       "      <td>2016-04-02</td>\n",
       "      <td>4</td>\n",
       "      <td>2016</td>\n",
       "    </tr>\n",
       "    <tr>\n",
       "      <th>2016-04-02</th>\n",
       "      <td>2109892</td>\n",
       "      <td>1</td>\n",
       "      <td>BOOKS</td>\n",
       "      <td>0.000000</td>\n",
       "      <td>0</td>\n",
       "      <td>2016-04-02</td>\n",
       "      <td>4</td>\n",
       "      <td>2016</td>\n",
       "    </tr>\n",
       "    <tr>\n",
       "      <th>...</th>\n",
       "      <td>...</td>\n",
       "      <td>...</td>\n",
       "      <td>...</td>\n",
       "      <td>...</td>\n",
       "      <td>...</td>\n",
       "      <td>...</td>\n",
       "      <td>...</td>\n",
       "      <td>...</td>\n",
       "    </tr>\n",
       "    <tr>\n",
       "      <th>2016-04-15</th>\n",
       "      <td>2134831</td>\n",
       "      <td>9</td>\n",
       "      <td>POULTRY</td>\n",
       "      <td>407.525000</td>\n",
       "      <td>17</td>\n",
       "      <td>2016-04-15</td>\n",
       "      <td>4</td>\n",
       "      <td>2016</td>\n",
       "    </tr>\n",
       "    <tr>\n",
       "      <th>2016-04-15</th>\n",
       "      <td>2134832</td>\n",
       "      <td>9</td>\n",
       "      <td>PREPARED FOODS</td>\n",
       "      <td>63.760002</td>\n",
       "      <td>1</td>\n",
       "      <td>2016-04-15</td>\n",
       "      <td>4</td>\n",
       "      <td>2016</td>\n",
       "    </tr>\n",
       "    <tr>\n",
       "      <th>2016-04-15</th>\n",
       "      <td>2134833</td>\n",
       "      <td>9</td>\n",
       "      <td>PRODUCE</td>\n",
       "      <td>987.550000</td>\n",
       "      <td>1</td>\n",
       "      <td>2016-04-15</td>\n",
       "      <td>4</td>\n",
       "      <td>2016</td>\n",
       "    </tr>\n",
       "    <tr>\n",
       "      <th>2016-04-15</th>\n",
       "      <td>2134834</td>\n",
       "      <td>9</td>\n",
       "      <td>SCHOOL AND OFFICE SUPPLIES</td>\n",
       "      <td>5.000000</td>\n",
       "      <td>0</td>\n",
       "      <td>2016-04-15</td>\n",
       "      <td>4</td>\n",
       "      <td>2016</td>\n",
       "    </tr>\n",
       "    <tr>\n",
       "      <th>2016-04-15</th>\n",
       "      <td>2134835</td>\n",
       "      <td>9</td>\n",
       "      <td>SEAFOOD</td>\n",
       "      <td>17.729000</td>\n",
       "      <td>0</td>\n",
       "      <td>2016-04-15</td>\n",
       "      <td>4</td>\n",
       "      <td>2016</td>\n",
       "    </tr>\n",
       "  </tbody>\n",
       "</table>\n",
       "<p>24948 rows × 8 columns</p>\n",
       "</div>"
      ],
      "text/plain": [
       "                 id  store_nbr                      family        sales  \\\n",
       "date                                                                      \n",
       "2016-04-02  2109888          1                  AUTOMOTIVE     6.000000   \n",
       "2016-04-02  2109889          1                   BABY CARE     0.000000   \n",
       "2016-04-02  2109890          1                      BEAUTY     3.000000   \n",
       "2016-04-02  2109891          1                   BEVERAGES  2317.000000   \n",
       "2016-04-02  2109892          1                       BOOKS     0.000000   \n",
       "...             ...        ...                         ...          ...   \n",
       "2016-04-15  2134831          9                     POULTRY   407.525000   \n",
       "2016-04-15  2134832          9              PREPARED FOODS    63.760002   \n",
       "2016-04-15  2134833          9                     PRODUCE   987.550000   \n",
       "2016-04-15  2134834          9  SCHOOL AND OFFICE SUPPLIES     5.000000   \n",
       "2016-04-15  2134835          9                     SEAFOOD    17.729000   \n",
       "\n",
       "            onpromotion        Date  Month  Year  \n",
       "date                                              \n",
       "2016-04-02            0  2016-04-02      4  2016  \n",
       "2016-04-02            0  2016-04-02      4  2016  \n",
       "2016-04-02            0  2016-04-02      4  2016  \n",
       "2016-04-02            2  2016-04-02      4  2016  \n",
       "2016-04-02            0  2016-04-02      4  2016  \n",
       "...                 ...         ...    ...   ...  \n",
       "2016-04-15           17  2016-04-15      4  2016  \n",
       "2016-04-15            1  2016-04-15      4  2016  \n",
       "2016-04-15            1  2016-04-15      4  2016  \n",
       "2016-04-15            0  2016-04-15      4  2016  \n",
       "2016-04-15            0  2016-04-15      4  2016  \n",
       "\n",
       "[24948 rows x 8 columns]"
      ]
     },
     "execution_count": 40,
     "metadata": {},
     "output_type": "execute_result"
    }
   ],
   "source": [
    "#Average sales before earthquake ,i.e 2016-04-01 to 2016-04-15\n",
    "before_earthquake =train[( train['Date'] > '2016-04-01') &  (train['Date']<= '2016-04-15')]\n",
    "before_earthquake"
   ]
  },
  {
   "cell_type": "code",
   "execution_count": 41,
   "id": "d53c54f2",
   "metadata": {},
   "outputs": [
    {
     "data": {
      "text/plain": [
       "445.007176512935"
      ]
     },
     "execution_count": 41,
     "metadata": {},
     "output_type": "execute_result"
    }
   ],
   "source": [
    "#the average sales before earthquake\n",
    "avg_before_earthquake = before_earthquake['sales'].mean()\n",
    "avg_before_earthquake"
   ]
  },
  {
   "cell_type": "code",
   "execution_count": 42,
   "id": "cb5c84b9",
   "metadata": {},
   "outputs": [
    {
     "data": {
      "image/png": "[encoded data removed]",
      "text/plain": [
       "<Figure size 432x288 with 1 Axes>"
      ]
     },
     "metadata": {},
     "output_type": "display_data"
    }
   ],
   "source": [
    "first_plot = before_earthquake.plot(x='Date',y='sales',kind='line',color='blue',rot=90)\n",
    "plt.legend()\n",
    "plt.show()"
   ]
  },
  {
   "cell_type": "code",
   "execution_count": 43,
   "id": "4a12b9d9",
   "metadata": {},
   "outputs": [
    {
     "data": {
      "text/html": [
       "<div>\n",
       "<style scoped>\n",
       "    .dataframe tbody tr th:only-of-type {\n",
       "        vertical-align: middle;\n",
       "    }\n",
       "\n",
       "    .dataframe tbody tr th {\n",
       "        vertical-align: top;\n",
       "    }\n",
       "\n",
       "    .dataframe thead th {\n",
       "        text-align: right;\n",
       "    }\n",
       "</style>\n",
       "<table border=\"1\" class=\"dataframe\">\n",
       "  <thead>\n",
       "    <tr style=\"text-align: right;\">\n",
       "      <th></th>\n",
       "      <th>id</th>\n",
       "      <th>store_nbr</th>\n",
       "      <th>family</th>\n",
       "      <th>sales</th>\n",
       "      <th>onpromotion</th>\n",
       "      <th>Date</th>\n",
       "      <th>Month</th>\n",
       "      <th>Year</th>\n",
       "    </tr>\n",
       "    <tr>\n",
       "      <th>date</th>\n",
       "      <th></th>\n",
       "      <th></th>\n",
       "      <th></th>\n",
       "      <th></th>\n",
       "      <th></th>\n",
       "      <th></th>\n",
       "      <th></th>\n",
       "      <th></th>\n",
       "    </tr>\n",
       "  </thead>\n",
       "  <tbody>\n",
       "    <tr>\n",
       "      <th>2016-04-18</th>\n",
       "      <td>2138400</td>\n",
       "      <td>1</td>\n",
       "      <td>AUTOMOTIVE</td>\n",
       "      <td>14.00000</td>\n",
       "      <td>0</td>\n",
       "      <td>2016-04-18</td>\n",
       "      <td>4</td>\n",
       "      <td>2016</td>\n",
       "    </tr>\n",
       "    <tr>\n",
       "      <th>2016-04-18</th>\n",
       "      <td>2138401</td>\n",
       "      <td>1</td>\n",
       "      <td>BABY CARE</td>\n",
       "      <td>0.00000</td>\n",
       "      <td>0</td>\n",
       "      <td>2016-04-18</td>\n",
       "      <td>4</td>\n",
       "      <td>2016</td>\n",
       "    </tr>\n",
       "    <tr>\n",
       "      <th>2016-04-18</th>\n",
       "      <td>2138402</td>\n",
       "      <td>1</td>\n",
       "      <td>BEAUTY</td>\n",
       "      <td>3.00000</td>\n",
       "      <td>0</td>\n",
       "      <td>2016-04-18</td>\n",
       "      <td>4</td>\n",
       "      <td>2016</td>\n",
       "    </tr>\n",
       "    <tr>\n",
       "      <th>2016-04-18</th>\n",
       "      <td>2138403</td>\n",
       "      <td>1</td>\n",
       "      <td>BEVERAGES</td>\n",
       "      <td>4155.00000</td>\n",
       "      <td>1</td>\n",
       "      <td>2016-04-18</td>\n",
       "      <td>4</td>\n",
       "      <td>2016</td>\n",
       "    </tr>\n",
       "    <tr>\n",
       "      <th>2016-04-18</th>\n",
       "      <td>2138404</td>\n",
       "      <td>1</td>\n",
       "      <td>BOOKS</td>\n",
       "      <td>0.00000</td>\n",
       "      <td>0</td>\n",
       "      <td>2016-04-18</td>\n",
       "      <td>4</td>\n",
       "      <td>2016</td>\n",
       "    </tr>\n",
       "    <tr>\n",
       "      <th>...</th>\n",
       "      <td>...</td>\n",
       "      <td>...</td>\n",
       "      <td>...</td>\n",
       "      <td>...</td>\n",
       "      <td>...</td>\n",
       "      <td>...</td>\n",
       "      <td>...</td>\n",
       "      <td>...</td>\n",
       "    </tr>\n",
       "    <tr>\n",
       "      <th>2016-04-30</th>\n",
       "      <td>2161561</td>\n",
       "      <td>9</td>\n",
       "      <td>POULTRY</td>\n",
       "      <td>826.35300</td>\n",
       "      <td>0</td>\n",
       "      <td>2016-04-30</td>\n",
       "      <td>4</td>\n",
       "      <td>2016</td>\n",
       "    </tr>\n",
       "    <tr>\n",
       "      <th>2016-04-30</th>\n",
       "      <td>2161562</td>\n",
       "      <td>9</td>\n",
       "      <td>PREPARED FOODS</td>\n",
       "      <td>165.65399</td>\n",
       "      <td>0</td>\n",
       "      <td>2016-04-30</td>\n",
       "      <td>4</td>\n",
       "      <td>2016</td>\n",
       "    </tr>\n",
       "    <tr>\n",
       "      <th>2016-04-30</th>\n",
       "      <td>2161563</td>\n",
       "      <td>9</td>\n",
       "      <td>PRODUCE</td>\n",
       "      <td>2012.72700</td>\n",
       "      <td>1</td>\n",
       "      <td>2016-04-30</td>\n",
       "      <td>4</td>\n",
       "      <td>2016</td>\n",
       "    </tr>\n",
       "    <tr>\n",
       "      <th>2016-04-30</th>\n",
       "      <td>2161564</td>\n",
       "      <td>9</td>\n",
       "      <td>SCHOOL AND OFFICE SUPPLIES</td>\n",
       "      <td>10.00000</td>\n",
       "      <td>0</td>\n",
       "      <td>2016-04-30</td>\n",
       "      <td>4</td>\n",
       "      <td>2016</td>\n",
       "    </tr>\n",
       "    <tr>\n",
       "      <th>2016-04-30</th>\n",
       "      <td>2161565</td>\n",
       "      <td>9</td>\n",
       "      <td>SEAFOOD</td>\n",
       "      <td>32.18600</td>\n",
       "      <td>3</td>\n",
       "      <td>2016-04-30</td>\n",
       "      <td>4</td>\n",
       "      <td>2016</td>\n",
       "    </tr>\n",
       "  </tbody>\n",
       "</table>\n",
       "<p>23166 rows × 8 columns</p>\n",
       "</div>"
      ],
      "text/plain": [
       "                 id  store_nbr                      family       sales  \\\n",
       "date                                                                     \n",
       "2016-04-18  2138400          1                  AUTOMOTIVE    14.00000   \n",
       "2016-04-18  2138401          1                   BABY CARE     0.00000   \n",
       "2016-04-18  2138402          1                      BEAUTY     3.00000   \n",
       "2016-04-18  2138403          1                   BEVERAGES  4155.00000   \n",
       "2016-04-18  2138404          1                       BOOKS     0.00000   \n",
       "...             ...        ...                         ...         ...   \n",
       "2016-04-30  2161561          9                     POULTRY   826.35300   \n",
       "2016-04-30  2161562          9              PREPARED FOODS   165.65399   \n",
       "2016-04-30  2161563          9                     PRODUCE  2012.72700   \n",
       "2016-04-30  2161564          9  SCHOOL AND OFFICE SUPPLIES    10.00000   \n",
       "2016-04-30  2161565          9                     SEAFOOD    32.18600   \n",
       "\n",
       "            onpromotion        Date  Month  Year  \n",
       "date                                              \n",
       "2016-04-18            0  2016-04-18      4  2016  \n",
       "2016-04-18            0  2016-04-18      4  2016  \n",
       "2016-04-18            0  2016-04-18      4  2016  \n",
       "2016-04-18            1  2016-04-18      4  2016  \n",
       "2016-04-18            0  2016-04-18      4  2016  \n",
       "...                 ...         ...    ...   ...  \n",
       "2016-04-30            0  2016-04-30      4  2016  \n",
       "2016-04-30            0  2016-04-30      4  2016  \n",
       "2016-04-30            1  2016-04-30      4  2016  \n",
       "2016-04-30            0  2016-04-30      4  2016  \n",
       "2016-04-30            3  2016-04-30      4  2016  \n",
       "\n",
       "[23166 rows x 8 columns]"
      ]
     },
     "execution_count": 43,
     "metadata": {},
     "output_type": "execute_result"
    }
   ],
   "source": [
    "#Average sales after earthquake ,i.e from 2016-04-17 going\n",
    "after_earthquake =train[( train['Date'] > '2016-04-17') &  (train['Date']<= '2016-04-30')]\n",
    "after_earthquake"
   ]
  },
  {
   "cell_type": "code",
   "execution_count": 44,
   "id": "60c03110",
   "metadata": {},
   "outputs": [
    {
     "data": {
      "text/plain": [
       "511.72250327857483"
      ]
     },
     "execution_count": 44,
     "metadata": {},
     "output_type": "execute_result"
    }
   ],
   "source": [
    "#the average sales after earthquake\n",
    "avg_after_earthquake = after_earthquake['sales'].mean()\n",
    "avg_after_earthquake"
   ]
  },
  {
   "cell_type": "code",
   "execution_count": 45,
   "id": "baef63af",
   "metadata": {},
   "outputs": [
    {
     "data": {
      "image/png": "[encoded data removed]",
      "text/plain": [
       "<Figure size 432x288 with 1 Axes>"
      ]
     },
     "metadata": {},
     "output_type": "display_data"
    }
   ],
   "source": [
    "second_plot = after_earthquake.plot(x='Date',y='sales',kind='line',color='brown',rot=90)\n",
    "plt.legend()\n",
    "plt.show()"
   ]
  },
  {
   "cell_type": "markdown",
   "id": "b89c1fd0",
   "metadata": {},
   "source": [
    "From the average sales before the eartnquake (445) and the average sales after the earthquake(511.8). It is clear that the earthquake didn't affect the stores sales in a negative way. "
   ]
  },
  {
   "cell_type": "markdown",
   "id": "8db683ee",
   "metadata": {},
   "source": [
    "### 4. Are certain stores selling more products?"
   ]
  },
  {
   "cell_type": "code",
   "execution_count": 46,
   "id": "87417f5e",
   "metadata": {},
   "outputs": [
    {
     "name": "stdout",
     "output_type": "stream",
     "text": [
      "<class 'pandas.core.series.Series'>\n",
      "DatetimeIndex: 3000888 entries, 2013-01-01 to 2017-08-15\n",
      "Series name: store_nbr\n",
      "Non-Null Count    Dtype\n",
      "--------------    -----\n",
      "3000888 non-null  int64\n",
      "dtypes: int64(1)\n",
      "memory usage: 45.8 MB\n"
     ]
    }
   ],
   "source": [
    "train['store_nbr'].info()"
   ]
  },
  {
   "cell_type": "code",
   "execution_count": 47,
   "id": "aa5091d0",
   "metadata": {},
   "outputs": [
    {
     "data": {
      "text/plain": [
       "date\n",
       "2013-01-01    1\n",
       "2013-01-01    1\n",
       "2013-01-01    1\n",
       "2013-01-01    1\n",
       "2013-01-01    1\n",
       "             ..\n",
       "2017-08-15    9\n",
       "2017-08-15    9\n",
       "2017-08-15    9\n",
       "2017-08-15    9\n",
       "2017-08-15    9\n",
       "Name: store_nbr, Length: 3000888, dtype: object"
      ]
     },
     "execution_count": 47,
     "metadata": {},
     "output_type": "execute_result"
    }
   ],
   "source": [
    "train['store_nbr']= train['store_nbr'].apply(str)\n",
    "train['store_nbr']"
   ]
  },
  {
   "cell_type": "code",
   "execution_count": 48,
   "id": "68f3b19b",
   "metadata": {},
   "outputs": [
    {
     "data": {
      "text/html": [
       "<div>\n",
       "<style scoped>\n",
       "    .dataframe tbody tr th:only-of-type {\n",
       "        vertical-align: middle;\n",
       "    }\n",
       "\n",
       "    .dataframe tbody tr th {\n",
       "        vertical-align: top;\n",
       "    }\n",
       "\n",
       "    .dataframe thead th {\n",
       "        text-align: right;\n",
       "    }\n",
       "</style>\n",
       "<table border=\"1\" class=\"dataframe\">\n",
       "  <thead>\n",
       "    <tr style=\"text-align: right;\">\n",
       "      <th></th>\n",
       "      <th>sum</th>\n",
       "    </tr>\n",
       "    <tr>\n",
       "      <th>store_nbr</th>\n",
       "      <th></th>\n",
       "    </tr>\n",
       "  </thead>\n",
       "  <tbody>\n",
       "    <tr>\n",
       "      <th>44</th>\n",
       "      <td>6.208755e+07</td>\n",
       "    </tr>\n",
       "    <tr>\n",
       "      <th>45</th>\n",
       "      <td>5.449801e+07</td>\n",
       "    </tr>\n",
       "    <tr>\n",
       "      <th>47</th>\n",
       "      <td>5.094831e+07</td>\n",
       "    </tr>\n",
       "    <tr>\n",
       "      <th>3</th>\n",
       "      <td>5.048191e+07</td>\n",
       "    </tr>\n",
       "    <tr>\n",
       "      <th>49</th>\n",
       "      <td>4.342010e+07</td>\n",
       "    </tr>\n",
       "    <tr>\n",
       "      <th>46</th>\n",
       "      <td>4.189606e+07</td>\n",
       "    </tr>\n",
       "    <tr>\n",
       "      <th>48</th>\n",
       "      <td>3.593313e+07</td>\n",
       "    </tr>\n",
       "    <tr>\n",
       "      <th>51</th>\n",
       "      <td>3.291149e+07</td>\n",
       "    </tr>\n",
       "    <tr>\n",
       "      <th>8</th>\n",
       "      <td>3.049429e+07</td>\n",
       "    </tr>\n",
       "    <tr>\n",
       "      <th>50</th>\n",
       "      <td>2.865302e+07</td>\n",
       "    </tr>\n",
       "  </tbody>\n",
       "</table>\n",
       "</div>"
      ],
      "text/plain": [
       "                    sum\n",
       "store_nbr              \n",
       "44         6.208755e+07\n",
       "45         5.449801e+07\n",
       "47         5.094831e+07\n",
       "3          5.048191e+07\n",
       "49         4.342010e+07\n",
       "46         4.189606e+07\n",
       "48         3.593313e+07\n",
       "51         3.291149e+07\n",
       "8          3.049429e+07\n",
       "50         2.865302e+07"
      ]
     },
     "execution_count": 48,
     "metadata": {},
     "output_type": "execute_result"
    }
   ],
   "source": [
    "Store_no = train.groupby('store_nbr').sales.agg(['sum']).sort_values(by=['sum'],ascending=False)\n",
    "Store_no.head(10)"
   ]
  },
  {
   "cell_type": "code",
   "execution_count": 49,
   "id": "4a4092c1",
   "metadata": {},
   "outputs": [
    {
     "data": {
      "image/png": "[encoded data removed]",
      "text/plain": [
       "<Figure size 1080x576 with 1 Axes>"
      ]
     },
     "metadata": {},
     "output_type": "display_data"
    }
   ],
   "source": [
    "plt.figure(figsize=(15,8))\n",
    "plt.title('STORE WITH MORE SALES')\n",
    "plt.xticks(fontsize=19,rotation='vertical')\n",
    "plt.ylabel('SALES',fontsize=20)\n",
    "sns.barplot(x=Store_no.index,y=(Store_no['sum']))\n",
    "plt.savefig('store_sales.png',dpi=300)\n",
    "plt.show()"
   ]
  },
  {
   "cell_type": "markdown",
   "id": "3cbc1486",
   "metadata": {},
   "source": [
    "Store 44 had the most sales followed by store 45 and 47."
   ]
  },
  {
   "cell_type": "markdown",
   "id": "425bcf06",
   "metadata": {},
   "source": [
    "### 5. Are sales affected by promotions?"
   ]
  },
  {
   "cell_type": "code",
   "execution_count": 50,
   "id": "ef51c33a",
   "metadata": {},
   "outputs": [
    {
     "data": {
      "text/plain": [
       "date\n",
       "2013-01-01      0\n",
       "2013-01-01      0\n",
       "2013-01-01      0\n",
       "2013-01-01      0\n",
       "2013-01-01      0\n",
       "             ... \n",
       "2017-08-15      0\n",
       "2017-08-15      1\n",
       "2017-08-15    148\n",
       "2017-08-15      8\n",
       "2017-08-15      0\n",
       "Name: onpromotion, Length: 3000888, dtype: int64"
      ]
     },
     "execution_count": 50,
     "metadata": {},
     "output_type": "execute_result"
    }
   ],
   "source": [
    "#converting 'onpromotion' to i\n",
    "train['onpromotion']=train['onpromotion'].apply(int)\n",
    "train['onpromotion']"
   ]
  },
  {
   "cell_type": "code",
   "execution_count": 51,
   "id": "fc8b5d23",
   "metadata": {},
   "outputs": [],
   "source": [
    "def promo(x):\n",
    "    b=str(x)\n",
    "    if '0' in b:\n",
    "        return 'NO_PROMO'\n",
    "\n",
    "    else:\n",
    "        return 'PROMO'"
   ]
  },
  {
   "cell_type": "code",
   "execution_count": 52,
   "id": "25d7cf1b",
   "metadata": {},
   "outputs": [
    {
     "data": {
      "text/html": [
       "<div>\n",
       "<style scoped>\n",
       "    .dataframe tbody tr th:only-of-type {\n",
       "        vertical-align: middle;\n",
       "    }\n",
       "\n",
       "    .dataframe tbody tr th {\n",
       "        vertical-align: top;\n",
       "    }\n",
       "\n",
       "    .dataframe thead th {\n",
       "        text-align: right;\n",
       "    }\n",
       "</style>\n",
       "<table border=\"1\" class=\"dataframe\">\n",
       "  <thead>\n",
       "    <tr style=\"text-align: right;\">\n",
       "      <th></th>\n",
       "      <th>id</th>\n",
       "      <th>store_nbr</th>\n",
       "      <th>family</th>\n",
       "      <th>sales</th>\n",
       "      <th>onpromotion</th>\n",
       "      <th>Date</th>\n",
       "      <th>Month</th>\n",
       "      <th>Year</th>\n",
       "    </tr>\n",
       "    <tr>\n",
       "      <th>date</th>\n",
       "      <th></th>\n",
       "      <th></th>\n",
       "      <th></th>\n",
       "      <th></th>\n",
       "      <th></th>\n",
       "      <th></th>\n",
       "      <th></th>\n",
       "      <th></th>\n",
       "    </tr>\n",
       "  </thead>\n",
       "  <tbody>\n",
       "    <tr>\n",
       "      <th>2013-01-01</th>\n",
       "      <td>0</td>\n",
       "      <td>1</td>\n",
       "      <td>AUTOMOTIVE</td>\n",
       "      <td>0.0</td>\n",
       "      <td>NO_PROMO</td>\n",
       "      <td>2013-01-01</td>\n",
       "      <td>1</td>\n",
       "      <td>2013</td>\n",
       "    </tr>\n",
       "    <tr>\n",
       "      <th>2013-01-01</th>\n",
       "      <td>1</td>\n",
       "      <td>1</td>\n",
       "      <td>BABY CARE</td>\n",
       "      <td>0.0</td>\n",
       "      <td>NO_PROMO</td>\n",
       "      <td>2013-01-01</td>\n",
       "      <td>1</td>\n",
       "      <td>2013</td>\n",
       "    </tr>\n",
       "    <tr>\n",
       "      <th>2013-01-01</th>\n",
       "      <td>2</td>\n",
       "      <td>1</td>\n",
       "      <td>BEAUTY</td>\n",
       "      <td>0.0</td>\n",
       "      <td>NO_PROMO</td>\n",
       "      <td>2013-01-01</td>\n",
       "      <td>1</td>\n",
       "      <td>2013</td>\n",
       "    </tr>\n",
       "    <tr>\n",
       "      <th>2013-01-01</th>\n",
       "      <td>3</td>\n",
       "      <td>1</td>\n",
       "      <td>BEVERAGES</td>\n",
       "      <td>0.0</td>\n",
       "      <td>NO_PROMO</td>\n",
       "      <td>2013-01-01</td>\n",
       "      <td>1</td>\n",
       "      <td>2013</td>\n",
       "    </tr>\n",
       "    <tr>\n",
       "      <th>2013-01-01</th>\n",
       "      <td>4</td>\n",
       "      <td>1</td>\n",
       "      <td>BOOKS</td>\n",
       "      <td>0.0</td>\n",
       "      <td>NO_PROMO</td>\n",
       "      <td>2013-01-01</td>\n",
       "      <td>1</td>\n",
       "      <td>2013</td>\n",
       "    </tr>\n",
       "    <tr>\n",
       "      <th>2013-01-01</th>\n",
       "      <td>5</td>\n",
       "      <td>1</td>\n",
       "      <td>BREAD/BAKERY</td>\n",
       "      <td>0.0</td>\n",
       "      <td>NO_PROMO</td>\n",
       "      <td>2013-01-01</td>\n",
       "      <td>1</td>\n",
       "      <td>2013</td>\n",
       "    </tr>\n",
       "    <tr>\n",
       "      <th>2013-01-01</th>\n",
       "      <td>6</td>\n",
       "      <td>1</td>\n",
       "      <td>CELEBRATION</td>\n",
       "      <td>0.0</td>\n",
       "      <td>NO_PROMO</td>\n",
       "      <td>2013-01-01</td>\n",
       "      <td>1</td>\n",
       "      <td>2013</td>\n",
       "    </tr>\n",
       "    <tr>\n",
       "      <th>2013-01-01</th>\n",
       "      <td>7</td>\n",
       "      <td>1</td>\n",
       "      <td>CLEANING</td>\n",
       "      <td>0.0</td>\n",
       "      <td>NO_PROMO</td>\n",
       "      <td>2013-01-01</td>\n",
       "      <td>1</td>\n",
       "      <td>2013</td>\n",
       "    </tr>\n",
       "    <tr>\n",
       "      <th>2013-01-01</th>\n",
       "      <td>8</td>\n",
       "      <td>1</td>\n",
       "      <td>DAIRY</td>\n",
       "      <td>0.0</td>\n",
       "      <td>NO_PROMO</td>\n",
       "      <td>2013-01-01</td>\n",
       "      <td>1</td>\n",
       "      <td>2013</td>\n",
       "    </tr>\n",
       "    <tr>\n",
       "      <th>2013-01-01</th>\n",
       "      <td>9</td>\n",
       "      <td>1</td>\n",
       "      <td>DELI</td>\n",
       "      <td>0.0</td>\n",
       "      <td>NO_PROMO</td>\n",
       "      <td>2013-01-01</td>\n",
       "      <td>1</td>\n",
       "      <td>2013</td>\n",
       "    </tr>\n",
       "  </tbody>\n",
       "</table>\n",
       "</div>"
      ],
      "text/plain": [
       "            id store_nbr        family  sales onpromotion        Date  Month  \\\n",
       "date                                                                           \n",
       "2013-01-01   0         1    AUTOMOTIVE    0.0    NO_PROMO  2013-01-01      1   \n",
       "2013-01-01   1         1     BABY CARE    0.0    NO_PROMO  2013-01-01      1   \n",
       "2013-01-01   2         1        BEAUTY    0.0    NO_PROMO  2013-01-01      1   \n",
       "2013-01-01   3         1     BEVERAGES    0.0    NO_PROMO  2013-01-01      1   \n",
       "2013-01-01   4         1         BOOKS    0.0    NO_PROMO  2013-01-01      1   \n",
       "2013-01-01   5         1  BREAD/BAKERY    0.0    NO_PROMO  2013-01-01      1   \n",
       "2013-01-01   6         1   CELEBRATION    0.0    NO_PROMO  2013-01-01      1   \n",
       "2013-01-01   7         1      CLEANING    0.0    NO_PROMO  2013-01-01      1   \n",
       "2013-01-01   8         1         DAIRY    0.0    NO_PROMO  2013-01-01      1   \n",
       "2013-01-01   9         1          DELI    0.0    NO_PROMO  2013-01-01      1   \n",
       "\n",
       "            Year  \n",
       "date              \n",
       "2013-01-01  2013  \n",
       "2013-01-01  2013  \n",
       "2013-01-01  2013  \n",
       "2013-01-01  2013  \n",
       "2013-01-01  2013  \n",
       "2013-01-01  2013  \n",
       "2013-01-01  2013  \n",
       "2013-01-01  2013  \n",
       "2013-01-01  2013  \n",
       "2013-01-01  2013  "
      ]
     },
     "execution_count": 52,
     "metadata": {},
     "output_type": "execute_result"
    }
   ],
   "source": [
    "train['onpromotion']=train['onpromotion'].apply( promo)\n",
    "train.head(10)"
   ]
  },
  {
   "cell_type": "code",
   "execution_count": 53,
   "id": "e6ef4287",
   "metadata": {},
   "outputs": [
    {
     "data": {
      "image/png": "[encoded data removed]",
      "text/plain": [
       "<Figure size 463.85x1800 with 5 Axes>"
      ]
     },
     "metadata": {},
     "output_type": "display_data"
    }
   ],
   "source": [
    "# Sales trend over the months\n",
    "sns.catplot(data= train, x ='Month', y = 'sales', \n",
    "               # per store type in cols\n",
    "               hue = 'onpromotion',\n",
    "               row = 'Year',\n",
    "               kind = 'point'\n",
    "              );"
   ]
  },
  {
   "cell_type": "markdown",
   "id": "7a2eb372",
   "metadata": {},
   "source": [
    "<b> It seems there were no product promotions done in the year 2013.<b>\n",
    "    \n",
    "<b> It is evident from 2014 to 2017 that the products that were promoted recorded very high sales as compared to those that were not promoted.<b>\n",
    "    \n",
    "<b> Sales in general seems to increase towards the end of the year.<b>"
   ]
  },
  {
   "cell_type": "code",
   "execution_count": 54,
   "id": "182ad14c",
   "metadata": {},
   "outputs": [
    {
     "data": {
      "image/png": "[encoded data removed]",
      "text/plain": [
       "<Figure size 1440x360 with 1 Axes>"
      ]
     },
     "metadata": {},
     "output_type": "display_data"
    }
   ],
   "source": [
    "ax = train.groupby(['Month'], as_index=False)['sales'].sum()\\\n",
    "                                    .plot('Month', 'sales', kind='bar', figsize=(20,5),\n",
    "                                         title='Total sales over each month of the year')"
   ]
  },
  {
   "cell_type": "markdown",
   "id": "ba2e78e6",
   "metadata": {},
   "source": [
    "### Hypothesis"
   ]
  },
  {
   "cell_type": "markdown",
   "id": "9c1e97d7",
   "metadata": {},
   "source": [
    "<b> It is evident from the above that promotion affected sales positively. In the year 2013 had no product promotions and the sales per momth were low.<b>\n",
    "    \n",
    "<b>Hence we can accept the hypothesis that promotions affect sales.<b>"
   ]
  },
  {
   "cell_type": "markdown",
   "id": "1e956904",
   "metadata": {},
   "source": [
    "## Feature Engineering"
   ]
  },
  {
   "cell_type": "markdown",
   "id": "b9bd129a",
   "metadata": {},
   "source": [
    "The following datasets will be added to the train and test dataset to create a data frame that will be used for creating the best model.\n",
    "\n",
    "=> The store data set\n",
    "\n",
    "=> The oil data set\n",
    "\n",
    "=> Holiday Events data set\n"
   ]
  },
  {
   "cell_type": "markdown",
   "id": "52a2479e",
   "metadata": {},
   "source": [
    "### merge the oil data set "
   ]
  },
  {
   "cell_type": "code",
   "execution_count": 55,
   "id": "422d6d19",
   "metadata": {},
   "outputs": [
    {
     "data": {
      "text/plain": [
       "date           0\n",
       "dcoilwtico    43\n",
       "dtype: int64"
      ]
     },
     "execution_count": 55,
     "metadata": {},
     "output_type": "execute_result"
    }
   ],
   "source": [
    "#check missing values\n",
    "oil_data.isnull().sum()"
   ]
  },
  {
   "cell_type": "code",
   "execution_count": 56,
   "id": "e8f70fd5",
   "metadata": {},
   "outputs": [],
   "source": [
    "#fill missing values in the data set with the values before the missing\n",
    "oil_data = oil_data.bfill()"
   ]
  },
  {
   "cell_type": "code",
   "execution_count": 57,
   "id": "9ebee7e5",
   "metadata": {},
   "outputs": [
    {
     "data": {
      "text/plain": [
       "date          0\n",
       "dcoilwtico    0\n",
       "dtype: int64"
      ]
     },
     "execution_count": 57,
     "metadata": {},
     "output_type": "execute_result"
    }
   ],
   "source": [
    "oil_data.isnull().sum()"
   ]
  },
  {
   "cell_type": "code",
   "execution_count": 58,
   "id": "0acbf890",
   "metadata": {},
   "outputs": [
    {
     "name": "stdout",
     "output_type": "stream",
     "text": [
      "<class 'pandas.core.frame.DataFrame'>\n",
      "RangeIndex: 1218 entries, 0 to 1217\n",
      "Data columns (total 2 columns):\n",
      " #   Column      Non-Null Count  Dtype         \n",
      "---  ------      --------------  -----         \n",
      " 0   date        1218 non-null   datetime64[ns]\n",
      " 1   dcoilwtico  1218 non-null   float64       \n",
      "dtypes: datetime64[ns](1), float64(1)\n",
      "memory usage: 19.2 KB\n"
     ]
    }
   ],
   "source": [
    "oil_data.info()"
   ]
  },
  {
   "cell_type": "code",
   "execution_count": 59,
   "id": "f72f4f8c",
   "metadata": {},
   "outputs": [
    {
     "name": "stdout",
     "output_type": "stream",
     "text": [
      "<class 'pandas.core.frame.DataFrame'>\n",
      "RangeIndex: 3000888 entries, 0 to 3000887\n",
      "Data columns (total 6 columns):\n",
      " #   Column       Dtype         \n",
      "---  ------       -----         \n",
      " 0   id           int64         \n",
      " 1   date         datetime64[ns]\n",
      " 2   store_nbr    int64         \n",
      " 3   family       object        \n",
      " 4   sales        float64       \n",
      " 5   onpromotion  int64         \n",
      "dtypes: datetime64[ns](1), float64(1), int64(3), object(1)\n",
      "memory usage: 137.4+ MB\n"
     ]
    }
   ],
   "source": [
    "train_data.info()"
   ]
  },
  {
   "cell_type": "code",
   "execution_count": 60,
   "id": "456c70ea",
   "metadata": {},
   "outputs": [
    {
     "data": {
      "text/html": [
       "<div>\n",
       "<style scoped>\n",
       "    .dataframe tbody tr th:only-of-type {\n",
       "        vertical-align: middle;\n",
       "    }\n",
       "\n",
       "    .dataframe tbody tr th {\n",
       "        vertical-align: top;\n",
       "    }\n",
       "\n",
       "    .dataframe thead th {\n",
       "        text-align: right;\n",
       "    }\n",
       "</style>\n",
       "<table border=\"1\" class=\"dataframe\">\n",
       "  <thead>\n",
       "    <tr style=\"text-align: right;\">\n",
       "      <th></th>\n",
       "      <th>id</th>\n",
       "      <th>date</th>\n",
       "      <th>store_nbr</th>\n",
       "      <th>family</th>\n",
       "      <th>sales</th>\n",
       "      <th>onpromotion</th>\n",
       "      <th>dcoilwtico</th>\n",
       "    </tr>\n",
       "  </thead>\n",
       "  <tbody>\n",
       "    <tr>\n",
       "      <th>0</th>\n",
       "      <td>0</td>\n",
       "      <td>2013-01-01</td>\n",
       "      <td>1</td>\n",
       "      <td>AUTOMOTIVE</td>\n",
       "      <td>0.0</td>\n",
       "      <td>0</td>\n",
       "      <td>93.14</td>\n",
       "    </tr>\n",
       "    <tr>\n",
       "      <th>1</th>\n",
       "      <td>1</td>\n",
       "      <td>2013-01-01</td>\n",
       "      <td>1</td>\n",
       "      <td>BABY CARE</td>\n",
       "      <td>0.0</td>\n",
       "      <td>0</td>\n",
       "      <td>93.14</td>\n",
       "    </tr>\n",
       "    <tr>\n",
       "      <th>2</th>\n",
       "      <td>2</td>\n",
       "      <td>2013-01-01</td>\n",
       "      <td>1</td>\n",
       "      <td>BEAUTY</td>\n",
       "      <td>0.0</td>\n",
       "      <td>0</td>\n",
       "      <td>93.14</td>\n",
       "    </tr>\n",
       "    <tr>\n",
       "      <th>3</th>\n",
       "      <td>3</td>\n",
       "      <td>2013-01-01</td>\n",
       "      <td>1</td>\n",
       "      <td>BEVERAGES</td>\n",
       "      <td>0.0</td>\n",
       "      <td>0</td>\n",
       "      <td>93.14</td>\n",
       "    </tr>\n",
       "    <tr>\n",
       "      <th>4</th>\n",
       "      <td>4</td>\n",
       "      <td>2013-01-01</td>\n",
       "      <td>1</td>\n",
       "      <td>BOOKS</td>\n",
       "      <td>0.0</td>\n",
       "      <td>0</td>\n",
       "      <td>93.14</td>\n",
       "    </tr>\n",
       "  </tbody>\n",
       "</table>\n",
       "</div>"
      ],
      "text/plain": [
       "   id       date  store_nbr      family  sales  onpromotion  dcoilwtico\n",
       "0   0 2013-01-01          1  AUTOMOTIVE    0.0            0       93.14\n",
       "1   1 2013-01-01          1   BABY CARE    0.0            0       93.14\n",
       "2   2 2013-01-01          1      BEAUTY    0.0            0       93.14\n",
       "3   3 2013-01-01          1   BEVERAGES    0.0            0       93.14\n",
       "4   4 2013-01-01          1       BOOKS    0.0            0       93.14"
      ]
     },
     "execution_count": 60,
     "metadata": {},
     "output_type": "execute_result"
    }
   ],
   "source": [
    "# merge the oil data to the train data set\n",
    "train1_data = pd.merge(train_data, oil_data, on= 'date', how = 'left')\n",
    "train1_data.head()"
   ]
  },
  {
   "cell_type": "code",
   "execution_count": 61,
   "id": "fc2ee1a1",
   "metadata": {},
   "outputs": [
    {
     "data": {
      "text/html": [
       "<div>\n",
       "<style scoped>\n",
       "    .dataframe tbody tr th:only-of-type {\n",
       "        vertical-align: middle;\n",
       "    }\n",
       "\n",
       "    .dataframe tbody tr th {\n",
       "        vertical-align: top;\n",
       "    }\n",
       "\n",
       "    .dataframe thead th {\n",
       "        text-align: right;\n",
       "    }\n",
       "</style>\n",
       "<table border=\"1\" class=\"dataframe\">\n",
       "  <thead>\n",
       "    <tr style=\"text-align: right;\">\n",
       "      <th></th>\n",
       "      <th>id</th>\n",
       "      <th>date</th>\n",
       "      <th>store_nbr</th>\n",
       "      <th>family</th>\n",
       "      <th>onpromotion</th>\n",
       "      <th>dcoilwtico</th>\n",
       "    </tr>\n",
       "  </thead>\n",
       "  <tbody>\n",
       "    <tr>\n",
       "      <th>0</th>\n",
       "      <td>3000888</td>\n",
       "      <td>2017-08-16</td>\n",
       "      <td>1</td>\n",
       "      <td>AUTOMOTIVE</td>\n",
       "      <td>0</td>\n",
       "      <td>46.8</td>\n",
       "    </tr>\n",
       "    <tr>\n",
       "      <th>1</th>\n",
       "      <td>3000889</td>\n",
       "      <td>2017-08-16</td>\n",
       "      <td>1</td>\n",
       "      <td>BABY CARE</td>\n",
       "      <td>0</td>\n",
       "      <td>46.8</td>\n",
       "    </tr>\n",
       "    <tr>\n",
       "      <th>2</th>\n",
       "      <td>3000890</td>\n",
       "      <td>2017-08-16</td>\n",
       "      <td>1</td>\n",
       "      <td>BEAUTY</td>\n",
       "      <td>2</td>\n",
       "      <td>46.8</td>\n",
       "    </tr>\n",
       "    <tr>\n",
       "      <th>3</th>\n",
       "      <td>3000891</td>\n",
       "      <td>2017-08-16</td>\n",
       "      <td>1</td>\n",
       "      <td>BEVERAGES</td>\n",
       "      <td>20</td>\n",
       "      <td>46.8</td>\n",
       "    </tr>\n",
       "    <tr>\n",
       "      <th>4</th>\n",
       "      <td>3000892</td>\n",
       "      <td>2017-08-16</td>\n",
       "      <td>1</td>\n",
       "      <td>BOOKS</td>\n",
       "      <td>0</td>\n",
       "      <td>46.8</td>\n",
       "    </tr>\n",
       "  </tbody>\n",
       "</table>\n",
       "</div>"
      ],
      "text/plain": [
       "        id       date  store_nbr      family  onpromotion  dcoilwtico\n",
       "0  3000888 2017-08-16          1  AUTOMOTIVE            0        46.8\n",
       "1  3000889 2017-08-16          1   BABY CARE            0        46.8\n",
       "2  3000890 2017-08-16          1      BEAUTY            2        46.8\n",
       "3  3000891 2017-08-16          1   BEVERAGES           20        46.8\n",
       "4  3000892 2017-08-16          1       BOOKS            0        46.8"
      ]
     },
     "execution_count": 61,
     "metadata": {},
     "output_type": "execute_result"
    }
   ],
   "source": [
    "# merge the oil data to the test data set\n",
    "test1_data = pd.merge(test_data, oil_data, on= 'date', how = 'left')\n",
    "test1_data.head()"
   ]
  },
  {
   "cell_type": "markdown",
   "id": "95650f69",
   "metadata": {},
   "source": [
    "#### merge the store data set"
   ]
  },
  {
   "cell_type": "code",
   "execution_count": 62,
   "id": "4c7e4611",
   "metadata": {},
   "outputs": [],
   "source": [
    "store_data['store_nbr']= store_data['store_nbr'].astype(str)\n",
    "train1_data['store_nbr']= train1_data['store_nbr'].astype(str)\n",
    "test1_data['store_nbr']= test1_data['store_nbr'].astype(str)"
   ]
  },
  {
   "cell_type": "code",
   "execution_count": 63,
   "id": "6b8ed10e",
   "metadata": {},
   "outputs": [
    {
     "data": {
      "text/html": [
       "<div>\n",
       "<style scoped>\n",
       "    .dataframe tbody tr th:only-of-type {\n",
       "        vertical-align: middle;\n",
       "    }\n",
       "\n",
       "    .dataframe tbody tr th {\n",
       "        vertical-align: top;\n",
       "    }\n",
       "\n",
       "    .dataframe thead th {\n",
       "        text-align: right;\n",
       "    }\n",
       "</style>\n",
       "<table border=\"1\" class=\"dataframe\">\n",
       "  <thead>\n",
       "    <tr style=\"text-align: right;\">\n",
       "      <th></th>\n",
       "      <th>id</th>\n",
       "      <th>date</th>\n",
       "      <th>store_nbr</th>\n",
       "      <th>family</th>\n",
       "      <th>sales</th>\n",
       "      <th>onpromotion</th>\n",
       "      <th>dcoilwtico</th>\n",
       "      <th>city</th>\n",
       "      <th>state</th>\n",
       "      <th>type</th>\n",
       "      <th>cluster</th>\n",
       "    </tr>\n",
       "  </thead>\n",
       "  <tbody>\n",
       "    <tr>\n",
       "      <th>0</th>\n",
       "      <td>0</td>\n",
       "      <td>2013-01-01</td>\n",
       "      <td>1</td>\n",
       "      <td>AUTOMOTIVE</td>\n",
       "      <td>0.0</td>\n",
       "      <td>0</td>\n",
       "      <td>93.14</td>\n",
       "      <td>Quito</td>\n",
       "      <td>Pichincha</td>\n",
       "      <td>D</td>\n",
       "      <td>13</td>\n",
       "    </tr>\n",
       "    <tr>\n",
       "      <th>1</th>\n",
       "      <td>1</td>\n",
       "      <td>2013-01-01</td>\n",
       "      <td>1</td>\n",
       "      <td>BABY CARE</td>\n",
       "      <td>0.0</td>\n",
       "      <td>0</td>\n",
       "      <td>93.14</td>\n",
       "      <td>Quito</td>\n",
       "      <td>Pichincha</td>\n",
       "      <td>D</td>\n",
       "      <td>13</td>\n",
       "    </tr>\n",
       "    <tr>\n",
       "      <th>2</th>\n",
       "      <td>2</td>\n",
       "      <td>2013-01-01</td>\n",
       "      <td>1</td>\n",
       "      <td>BEAUTY</td>\n",
       "      <td>0.0</td>\n",
       "      <td>0</td>\n",
       "      <td>93.14</td>\n",
       "      <td>Quito</td>\n",
       "      <td>Pichincha</td>\n",
       "      <td>D</td>\n",
       "      <td>13</td>\n",
       "    </tr>\n",
       "    <tr>\n",
       "      <th>3</th>\n",
       "      <td>3</td>\n",
       "      <td>2013-01-01</td>\n",
       "      <td>1</td>\n",
       "      <td>BEVERAGES</td>\n",
       "      <td>0.0</td>\n",
       "      <td>0</td>\n",
       "      <td>93.14</td>\n",
       "      <td>Quito</td>\n",
       "      <td>Pichincha</td>\n",
       "      <td>D</td>\n",
       "      <td>13</td>\n",
       "    </tr>\n",
       "    <tr>\n",
       "      <th>4</th>\n",
       "      <td>4</td>\n",
       "      <td>2013-01-01</td>\n",
       "      <td>1</td>\n",
       "      <td>BOOKS</td>\n",
       "      <td>0.0</td>\n",
       "      <td>0</td>\n",
       "      <td>93.14</td>\n",
       "      <td>Quito</td>\n",
       "      <td>Pichincha</td>\n",
       "      <td>D</td>\n",
       "      <td>13</td>\n",
       "    </tr>\n",
       "  </tbody>\n",
       "</table>\n",
       "</div>"
      ],
      "text/plain": [
       "   id       date store_nbr      family  sales  onpromotion  dcoilwtico   city  \\\n",
       "0   0 2013-01-01         1  AUTOMOTIVE    0.0            0       93.14  Quito   \n",
       "1   1 2013-01-01         1   BABY CARE    0.0            0       93.14  Quito   \n",
       "2   2 2013-01-01         1      BEAUTY    0.0            0       93.14  Quito   \n",
       "3   3 2013-01-01         1   BEVERAGES    0.0            0       93.14  Quito   \n",
       "4   4 2013-01-01         1       BOOKS    0.0            0       93.14  Quito   \n",
       "\n",
       "       state type  cluster  \n",
       "0  Pichincha    D       13  \n",
       "1  Pichincha    D       13  \n",
       "2  Pichincha    D       13  \n",
       "3  Pichincha    D       13  \n",
       "4  Pichincha    D       13  "
      ]
     },
     "execution_count": 63,
     "metadata": {},
     "output_type": "execute_result"
    }
   ],
   "source": [
    "#merge the stores data to the train data set\n",
    "train1_data = train1_data.merge(store_data, on = 'store_nbr', how = 'left')\n",
    "train1_data.head()"
   ]
  },
  {
   "cell_type": "code",
   "execution_count": 64,
   "id": "1adbacd5",
   "metadata": {},
   "outputs": [
    {
     "data": {
      "text/html": [
       "<div>\n",
       "<style scoped>\n",
       "    .dataframe tbody tr th:only-of-type {\n",
       "        vertical-align: middle;\n",
       "    }\n",
       "\n",
       "    .dataframe tbody tr th {\n",
       "        vertical-align: top;\n",
       "    }\n",
       "\n",
       "    .dataframe thead th {\n",
       "        text-align: right;\n",
       "    }\n",
       "</style>\n",
       "<table border=\"1\" class=\"dataframe\">\n",
       "  <thead>\n",
       "    <tr style=\"text-align: right;\">\n",
       "      <th></th>\n",
       "      <th>id</th>\n",
       "      <th>date</th>\n",
       "      <th>store_nbr</th>\n",
       "      <th>family</th>\n",
       "      <th>onpromotion</th>\n",
       "      <th>dcoilwtico</th>\n",
       "      <th>city</th>\n",
       "      <th>state</th>\n",
       "      <th>type</th>\n",
       "      <th>cluster</th>\n",
       "    </tr>\n",
       "  </thead>\n",
       "  <tbody>\n",
       "    <tr>\n",
       "      <th>0</th>\n",
       "      <td>3000888</td>\n",
       "      <td>2017-08-16</td>\n",
       "      <td>1</td>\n",
       "      <td>AUTOMOTIVE</td>\n",
       "      <td>0</td>\n",
       "      <td>46.8</td>\n",
       "      <td>Quito</td>\n",
       "      <td>Pichincha</td>\n",
       "      <td>D</td>\n",
       "      <td>13</td>\n",
       "    </tr>\n",
       "    <tr>\n",
       "      <th>1</th>\n",
       "      <td>3000889</td>\n",
       "      <td>2017-08-16</td>\n",
       "      <td>1</td>\n",
       "      <td>BABY CARE</td>\n",
       "      <td>0</td>\n",
       "      <td>46.8</td>\n",
       "      <td>Quito</td>\n",
       "      <td>Pichincha</td>\n",
       "      <td>D</td>\n",
       "      <td>13</td>\n",
       "    </tr>\n",
       "    <tr>\n",
       "      <th>2</th>\n",
       "      <td>3000890</td>\n",
       "      <td>2017-08-16</td>\n",
       "      <td>1</td>\n",
       "      <td>BEAUTY</td>\n",
       "      <td>2</td>\n",
       "      <td>46.8</td>\n",
       "      <td>Quito</td>\n",
       "      <td>Pichincha</td>\n",
       "      <td>D</td>\n",
       "      <td>13</td>\n",
       "    </tr>\n",
       "    <tr>\n",
       "      <th>3</th>\n",
       "      <td>3000891</td>\n",
       "      <td>2017-08-16</td>\n",
       "      <td>1</td>\n",
       "      <td>BEVERAGES</td>\n",
       "      <td>20</td>\n",
       "      <td>46.8</td>\n",
       "      <td>Quito</td>\n",
       "      <td>Pichincha</td>\n",
       "      <td>D</td>\n",
       "      <td>13</td>\n",
       "    </tr>\n",
       "    <tr>\n",
       "      <th>4</th>\n",
       "      <td>3000892</td>\n",
       "      <td>2017-08-16</td>\n",
       "      <td>1</td>\n",
       "      <td>BOOKS</td>\n",
       "      <td>0</td>\n",
       "      <td>46.8</td>\n",
       "      <td>Quito</td>\n",
       "      <td>Pichincha</td>\n",
       "      <td>D</td>\n",
       "      <td>13</td>\n",
       "    </tr>\n",
       "  </tbody>\n",
       "</table>\n",
       "</div>"
      ],
      "text/plain": [
       "        id       date store_nbr      family  onpromotion  dcoilwtico   city  \\\n",
       "0  3000888 2017-08-16         1  AUTOMOTIVE            0        46.8  Quito   \n",
       "1  3000889 2017-08-16         1   BABY CARE            0        46.8  Quito   \n",
       "2  3000890 2017-08-16         1      BEAUTY            2        46.8  Quito   \n",
       "3  3000891 2017-08-16         1   BEVERAGES           20        46.8  Quito   \n",
       "4  3000892 2017-08-16         1       BOOKS            0        46.8  Quito   \n",
       "\n",
       "       state type  cluster  \n",
       "0  Pichincha    D       13  \n",
       "1  Pichincha    D       13  \n",
       "2  Pichincha    D       13  \n",
       "3  Pichincha    D       13  \n",
       "4  Pichincha    D       13  "
      ]
     },
     "execution_count": 64,
     "metadata": {},
     "output_type": "execute_result"
    }
   ],
   "source": [
    "#merge the stores data to the test data set\n",
    "test1_data = test1_data.merge(store_data, on = 'store_nbr', how = 'left')\n",
    "test1_data.head()"
   ]
  },
  {
   "cell_type": "markdown",
   "id": "6f7f6b99",
   "metadata": {},
   "source": [
    "### merge the holiday data set"
   ]
  },
  {
   "cell_type": "code",
   "execution_count": 65,
   "id": "d27ea6a4",
   "metadata": {},
   "outputs": [
    {
     "data": {
      "text/html": [
       "<div>\n",
       "<style scoped>\n",
       "    .dataframe tbody tr th:only-of-type {\n",
       "        vertical-align: middle;\n",
       "    }\n",
       "\n",
       "    .dataframe tbody tr th {\n",
       "        vertical-align: top;\n",
       "    }\n",
       "\n",
       "    .dataframe thead th {\n",
       "        text-align: right;\n",
       "    }\n",
       "</style>\n",
       "<table border=\"1\" class=\"dataframe\">\n",
       "  <thead>\n",
       "    <tr style=\"text-align: right;\">\n",
       "      <th></th>\n",
       "      <th>date</th>\n",
       "      <th>type</th>\n",
       "      <th>locale</th>\n",
       "      <th>locale_name</th>\n",
       "      <th>description</th>\n",
       "      <th>transferred</th>\n",
       "    </tr>\n",
       "  </thead>\n",
       "  <tbody>\n",
       "    <tr>\n",
       "      <th>0</th>\n",
       "      <td>2012-03-02</td>\n",
       "      <td>Holiday</td>\n",
       "      <td>Local</td>\n",
       "      <td>Manta</td>\n",
       "      <td>Fundacion de Manta</td>\n",
       "      <td>False</td>\n",
       "    </tr>\n",
       "    <tr>\n",
       "      <th>1</th>\n",
       "      <td>2012-04-01</td>\n",
       "      <td>Holiday</td>\n",
       "      <td>Regional</td>\n",
       "      <td>Cotopaxi</td>\n",
       "      <td>Provincializacion de Cotopaxi</td>\n",
       "      <td>False</td>\n",
       "    </tr>\n",
       "    <tr>\n",
       "      <th>2</th>\n",
       "      <td>2012-04-12</td>\n",
       "      <td>Holiday</td>\n",
       "      <td>Local</td>\n",
       "      <td>Cuenca</td>\n",
       "      <td>Fundacion de Cuenca</td>\n",
       "      <td>False</td>\n",
       "    </tr>\n",
       "    <tr>\n",
       "      <th>3</th>\n",
       "      <td>2012-04-14</td>\n",
       "      <td>Holiday</td>\n",
       "      <td>Local</td>\n",
       "      <td>Libertad</td>\n",
       "      <td>Cantonizacion de Libertad</td>\n",
       "      <td>False</td>\n",
       "    </tr>\n",
       "    <tr>\n",
       "      <th>4</th>\n",
       "      <td>2012-04-21</td>\n",
       "      <td>Holiday</td>\n",
       "      <td>Local</td>\n",
       "      <td>Riobamba</td>\n",
       "      <td>Cantonizacion de Riobamba</td>\n",
       "      <td>False</td>\n",
       "    </tr>\n",
       "  </tbody>\n",
       "</table>\n",
       "</div>"
      ],
      "text/plain": [
       "        date     type    locale locale_name                    description  \\\n",
       "0 2012-03-02  Holiday     Local       Manta             Fundacion de Manta   \n",
       "1 2012-04-01  Holiday  Regional    Cotopaxi  Provincializacion de Cotopaxi   \n",
       "2 2012-04-12  Holiday     Local      Cuenca            Fundacion de Cuenca   \n",
       "3 2012-04-14  Holiday     Local    Libertad      Cantonizacion de Libertad   \n",
       "4 2012-04-21  Holiday     Local    Riobamba      Cantonizacion de Riobamba   \n",
       "\n",
       "   transferred  \n",
       "0        False  \n",
       "1        False  \n",
       "2        False  \n",
       "3        False  \n",
       "4        False  "
      ]
     },
     "execution_count": 65,
     "metadata": {},
     "output_type": "execute_result"
    }
   ],
   "source": [
    "holidays_events.head()"
   ]
  },
  {
   "cell_type": "code",
   "execution_count": 66,
   "id": "19629a4c",
   "metadata": {},
   "outputs": [
    {
     "data": {
      "text/html": [
       "<div>\n",
       "<style scoped>\n",
       "    .dataframe tbody tr th:only-of-type {\n",
       "        vertical-align: middle;\n",
       "    }\n",
       "\n",
       "    .dataframe tbody tr th {\n",
       "        vertical-align: top;\n",
       "    }\n",
       "\n",
       "    .dataframe thead th {\n",
       "        text-align: right;\n",
       "    }\n",
       "</style>\n",
       "<table border=\"1\" class=\"dataframe\">\n",
       "  <thead>\n",
       "    <tr style=\"text-align: right;\">\n",
       "      <th></th>\n",
       "      <th>date</th>\n",
       "      <th>type</th>\n",
       "      <th>locale</th>\n",
       "      <th>locale_name</th>\n",
       "      <th>description</th>\n",
       "      <th>transferred</th>\n",
       "    </tr>\n",
       "  </thead>\n",
       "  <tbody>\n",
       "    <tr>\n",
       "      <th>0</th>\n",
       "      <td>2012-03-02</td>\n",
       "      <td>Holiday</td>\n",
       "      <td>Local</td>\n",
       "      <td>Manta</td>\n",
       "      <td>Fundacion de Manta</td>\n",
       "      <td>False</td>\n",
       "    </tr>\n",
       "    <tr>\n",
       "      <th>1</th>\n",
       "      <td>2012-04-01</td>\n",
       "      <td>Holiday</td>\n",
       "      <td>Regional</td>\n",
       "      <td>Cotopaxi</td>\n",
       "      <td>Provincializacion de Cotopaxi</td>\n",
       "      <td>False</td>\n",
       "    </tr>\n",
       "    <tr>\n",
       "      <th>2</th>\n",
       "      <td>2012-04-12</td>\n",
       "      <td>Holiday</td>\n",
       "      <td>Local</td>\n",
       "      <td>Cuenca</td>\n",
       "      <td>Fundacion de Cuenca</td>\n",
       "      <td>False</td>\n",
       "    </tr>\n",
       "    <tr>\n",
       "      <th>3</th>\n",
       "      <td>2012-04-14</td>\n",
       "      <td>Holiday</td>\n",
       "      <td>Local</td>\n",
       "      <td>Libertad</td>\n",
       "      <td>Cantonizacion de Libertad</td>\n",
       "      <td>False</td>\n",
       "    </tr>\n",
       "    <tr>\n",
       "      <th>4</th>\n",
       "      <td>2012-04-21</td>\n",
       "      <td>Holiday</td>\n",
       "      <td>Local</td>\n",
       "      <td>Riobamba</td>\n",
       "      <td>Cantonizacion de Riobamba</td>\n",
       "      <td>False</td>\n",
       "    </tr>\n",
       "    <tr>\n",
       "      <th>...</th>\n",
       "      <td>...</td>\n",
       "      <td>...</td>\n",
       "      <td>...</td>\n",
       "      <td>...</td>\n",
       "      <td>...</td>\n",
       "      <td>...</td>\n",
       "    </tr>\n",
       "    <tr>\n",
       "      <th>345</th>\n",
       "      <td>2017-12-22</td>\n",
       "      <td>Additional</td>\n",
       "      <td>National</td>\n",
       "      <td>Ecuador</td>\n",
       "      <td>Navidad-3</td>\n",
       "      <td>False</td>\n",
       "    </tr>\n",
       "    <tr>\n",
       "      <th>346</th>\n",
       "      <td>2017-12-23</td>\n",
       "      <td>Additional</td>\n",
       "      <td>National</td>\n",
       "      <td>Ecuador</td>\n",
       "      <td>Navidad-2</td>\n",
       "      <td>False</td>\n",
       "    </tr>\n",
       "    <tr>\n",
       "      <th>347</th>\n",
       "      <td>2017-12-24</td>\n",
       "      <td>Additional</td>\n",
       "      <td>National</td>\n",
       "      <td>Ecuador</td>\n",
       "      <td>Navidad-1</td>\n",
       "      <td>False</td>\n",
       "    </tr>\n",
       "    <tr>\n",
       "      <th>348</th>\n",
       "      <td>2017-12-25</td>\n",
       "      <td>Holiday</td>\n",
       "      <td>National</td>\n",
       "      <td>Ecuador</td>\n",
       "      <td>Navidad</td>\n",
       "      <td>False</td>\n",
       "    </tr>\n",
       "    <tr>\n",
       "      <th>349</th>\n",
       "      <td>2017-12-26</td>\n",
       "      <td>Additional</td>\n",
       "      <td>National</td>\n",
       "      <td>Ecuador</td>\n",
       "      <td>Navidad+1</td>\n",
       "      <td>False</td>\n",
       "    </tr>\n",
       "  </tbody>\n",
       "</table>\n",
       "<p>350 rows × 6 columns</p>\n",
       "</div>"
      ],
      "text/plain": [
       "          date        type    locale locale_name  \\\n",
       "0   2012-03-02     Holiday     Local       Manta   \n",
       "1   2012-04-01     Holiday  Regional    Cotopaxi   \n",
       "2   2012-04-12     Holiday     Local      Cuenca   \n",
       "3   2012-04-14     Holiday     Local    Libertad   \n",
       "4   2012-04-21     Holiday     Local    Riobamba   \n",
       "..         ...         ...       ...         ...   \n",
       "345 2017-12-22  Additional  National     Ecuador   \n",
       "346 2017-12-23  Additional  National     Ecuador   \n",
       "347 2017-12-24  Additional  National     Ecuador   \n",
       "348 2017-12-25     Holiday  National     Ecuador   \n",
       "349 2017-12-26  Additional  National     Ecuador   \n",
       "\n",
       "                       description  transferred  \n",
       "0               Fundacion de Manta        False  \n",
       "1    Provincializacion de Cotopaxi        False  \n",
       "2              Fundacion de Cuenca        False  \n",
       "3        Cantonizacion de Libertad        False  \n",
       "4        Cantonizacion de Riobamba        False  \n",
       "..                             ...          ...  \n",
       "345                      Navidad-3        False  \n",
       "346                      Navidad-2        False  \n",
       "347                      Navidad-1        False  \n",
       "348                        Navidad        False  \n",
       "349                      Navidad+1        False  \n",
       "\n",
       "[350 rows x 6 columns]"
      ]
     },
     "execution_count": 66,
     "metadata": {},
     "output_type": "execute_result"
    }
   ],
   "source": [
    "#drop the date and description column\n",
    "holidays_events.drop(holidays_events.columns[[0]], axis=1, inplace=False)\n",
    "holidays_events.drop(holidays_events.columns[[4]], axis=1, inplace=False)\n",
    "holidays_events"
   ]
  },
  {
   "cell_type": "code",
   "execution_count": 67,
   "id": "1740cbc9",
   "metadata": {},
   "outputs": [
    {
     "data": {
      "text/html": [
       "<div>\n",
       "<style scoped>\n",
       "    .dataframe tbody tr th:only-of-type {\n",
       "        vertical-align: middle;\n",
       "    }\n",
       "\n",
       "    .dataframe tbody tr th {\n",
       "        vertical-align: top;\n",
       "    }\n",
       "\n",
       "    .dataframe thead th {\n",
       "        text-align: right;\n",
       "    }\n",
       "</style>\n",
       "<table border=\"1\" class=\"dataframe\">\n",
       "  <thead>\n",
       "    <tr style=\"text-align: right;\">\n",
       "      <th></th>\n",
       "      <th>date</th>\n",
       "      <th>holiday_type</th>\n",
       "      <th>locale</th>\n",
       "      <th>locale_name</th>\n",
       "      <th>description</th>\n",
       "      <th>transferred</th>\n",
       "    </tr>\n",
       "  </thead>\n",
       "  <tbody>\n",
       "    <tr>\n",
       "      <th>0</th>\n",
       "      <td>2012-03-02</td>\n",
       "      <td>Holiday</td>\n",
       "      <td>Local</td>\n",
       "      <td>Manta</td>\n",
       "      <td>Fundacion de Manta</td>\n",
       "      <td>False</td>\n",
       "    </tr>\n",
       "    <tr>\n",
       "      <th>1</th>\n",
       "      <td>2012-04-01</td>\n",
       "      <td>Holiday</td>\n",
       "      <td>Regional</td>\n",
       "      <td>Cotopaxi</td>\n",
       "      <td>Provincializacion de Cotopaxi</td>\n",
       "      <td>False</td>\n",
       "    </tr>\n",
       "    <tr>\n",
       "      <th>2</th>\n",
       "      <td>2012-04-12</td>\n",
       "      <td>Holiday</td>\n",
       "      <td>Local</td>\n",
       "      <td>Cuenca</td>\n",
       "      <td>Fundacion de Cuenca</td>\n",
       "      <td>False</td>\n",
       "    </tr>\n",
       "    <tr>\n",
       "      <th>3</th>\n",
       "      <td>2012-04-14</td>\n",
       "      <td>Holiday</td>\n",
       "      <td>Local</td>\n",
       "      <td>Libertad</td>\n",
       "      <td>Cantonizacion de Libertad</td>\n",
       "      <td>False</td>\n",
       "    </tr>\n",
       "    <tr>\n",
       "      <th>4</th>\n",
       "      <td>2012-04-21</td>\n",
       "      <td>Holiday</td>\n",
       "      <td>Local</td>\n",
       "      <td>Riobamba</td>\n",
       "      <td>Cantonizacion de Riobamba</td>\n",
       "      <td>False</td>\n",
       "    </tr>\n",
       "    <tr>\n",
       "      <th>...</th>\n",
       "      <td>...</td>\n",
       "      <td>...</td>\n",
       "      <td>...</td>\n",
       "      <td>...</td>\n",
       "      <td>...</td>\n",
       "      <td>...</td>\n",
       "    </tr>\n",
       "    <tr>\n",
       "      <th>345</th>\n",
       "      <td>2017-12-22</td>\n",
       "      <td>Additional</td>\n",
       "      <td>National</td>\n",
       "      <td>Ecuador</td>\n",
       "      <td>Navidad-3</td>\n",
       "      <td>False</td>\n",
       "    </tr>\n",
       "    <tr>\n",
       "      <th>346</th>\n",
       "      <td>2017-12-23</td>\n",
       "      <td>Additional</td>\n",
       "      <td>National</td>\n",
       "      <td>Ecuador</td>\n",
       "      <td>Navidad-2</td>\n",
       "      <td>False</td>\n",
       "    </tr>\n",
       "    <tr>\n",
       "      <th>347</th>\n",
       "      <td>2017-12-24</td>\n",
       "      <td>Additional</td>\n",
       "      <td>National</td>\n",
       "      <td>Ecuador</td>\n",
       "      <td>Navidad-1</td>\n",
       "      <td>False</td>\n",
       "    </tr>\n",
       "    <tr>\n",
       "      <th>348</th>\n",
       "      <td>2017-12-25</td>\n",
       "      <td>Holiday</td>\n",
       "      <td>National</td>\n",
       "      <td>Ecuador</td>\n",
       "      <td>Navidad</td>\n",
       "      <td>False</td>\n",
       "    </tr>\n",
       "    <tr>\n",
       "      <th>349</th>\n",
       "      <td>2017-12-26</td>\n",
       "      <td>Additional</td>\n",
       "      <td>National</td>\n",
       "      <td>Ecuador</td>\n",
       "      <td>Navidad+1</td>\n",
       "      <td>False</td>\n",
       "    </tr>\n",
       "  </tbody>\n",
       "</table>\n",
       "<p>350 rows × 6 columns</p>\n",
       "</div>"
      ],
      "text/plain": [
       "          date holiday_type    locale locale_name  \\\n",
       "0   2012-03-02      Holiday     Local       Manta   \n",
       "1   2012-04-01      Holiday  Regional    Cotopaxi   \n",
       "2   2012-04-12      Holiday     Local      Cuenca   \n",
       "3   2012-04-14      Holiday     Local    Libertad   \n",
       "4   2012-04-21      Holiday     Local    Riobamba   \n",
       "..         ...          ...       ...         ...   \n",
       "345 2017-12-22   Additional  National     Ecuador   \n",
       "346 2017-12-23   Additional  National     Ecuador   \n",
       "347 2017-12-24   Additional  National     Ecuador   \n",
       "348 2017-12-25      Holiday  National     Ecuador   \n",
       "349 2017-12-26   Additional  National     Ecuador   \n",
       "\n",
       "                       description  transferred  \n",
       "0               Fundacion de Manta        False  \n",
       "1    Provincializacion de Cotopaxi        False  \n",
       "2              Fundacion de Cuenca        False  \n",
       "3        Cantonizacion de Libertad        False  \n",
       "4        Cantonizacion de Riobamba        False  \n",
       "..                             ...          ...  \n",
       "345                      Navidad-3        False  \n",
       "346                      Navidad-2        False  \n",
       "347                      Navidad-1        False  \n",
       "348                        Navidad        False  \n",
       "349                      Navidad+1        False  \n",
       "\n",
       "[350 rows x 6 columns]"
      ]
     },
     "execution_count": 67,
     "metadata": {},
     "output_type": "execute_result"
    }
   ],
   "source": [
    "#change the type column to holiday type\n",
    "holidays_events.rename(columns={'type': 'holiday_type'}, inplace=True)\n",
    "holidays_events"
   ]
  },
  {
   "cell_type": "code",
   "execution_count": 68,
   "id": "094d1cc0",
   "metadata": {},
   "outputs": [
    {
     "data": {
      "text/html": [
       "<div>\n",
       "<style scoped>\n",
       "    .dataframe tbody tr th:only-of-type {\n",
       "        vertical-align: middle;\n",
       "    }\n",
       "\n",
       "    .dataframe tbody tr th {\n",
       "        vertical-align: top;\n",
       "    }\n",
       "\n",
       "    .dataframe thead th {\n",
       "        text-align: right;\n",
       "    }\n",
       "</style>\n",
       "<table border=\"1\" class=\"dataframe\">\n",
       "  <thead>\n",
       "    <tr style=\"text-align: right;\">\n",
       "      <th></th>\n",
       "      <th>id</th>\n",
       "      <th>date</th>\n",
       "      <th>store_nbr</th>\n",
       "      <th>family</th>\n",
       "      <th>sales</th>\n",
       "      <th>onpromotion</th>\n",
       "      <th>dcoilwtico</th>\n",
       "      <th>city</th>\n",
       "      <th>state</th>\n",
       "      <th>type</th>\n",
       "      <th>cluster</th>\n",
       "      <th>holiday_type</th>\n",
       "      <th>locale</th>\n",
       "      <th>locale_name</th>\n",
       "      <th>description</th>\n",
       "      <th>transferred</th>\n",
       "    </tr>\n",
       "  </thead>\n",
       "  <tbody>\n",
       "    <tr>\n",
       "      <th>0</th>\n",
       "      <td>0</td>\n",
       "      <td>2013-01-01</td>\n",
       "      <td>1</td>\n",
       "      <td>AUTOMOTIVE</td>\n",
       "      <td>0.0</td>\n",
       "      <td>0</td>\n",
       "      <td>93.14</td>\n",
       "      <td>Quito</td>\n",
       "      <td>Pichincha</td>\n",
       "      <td>D</td>\n",
       "      <td>13</td>\n",
       "      <td>Holiday</td>\n",
       "      <td>National</td>\n",
       "      <td>Ecuador</td>\n",
       "      <td>Primer dia del ano</td>\n",
       "      <td>False</td>\n",
       "    </tr>\n",
       "    <tr>\n",
       "      <th>1</th>\n",
       "      <td>1</td>\n",
       "      <td>2013-01-01</td>\n",
       "      <td>1</td>\n",
       "      <td>BABY CARE</td>\n",
       "      <td>0.0</td>\n",
       "      <td>0</td>\n",
       "      <td>93.14</td>\n",
       "      <td>Quito</td>\n",
       "      <td>Pichincha</td>\n",
       "      <td>D</td>\n",
       "      <td>13</td>\n",
       "      <td>Holiday</td>\n",
       "      <td>National</td>\n",
       "      <td>Ecuador</td>\n",
       "      <td>Primer dia del ano</td>\n",
       "      <td>False</td>\n",
       "    </tr>\n",
       "    <tr>\n",
       "      <th>2</th>\n",
       "      <td>2</td>\n",
       "      <td>2013-01-01</td>\n",
       "      <td>1</td>\n",
       "      <td>BEAUTY</td>\n",
       "      <td>0.0</td>\n",
       "      <td>0</td>\n",
       "      <td>93.14</td>\n",
       "      <td>Quito</td>\n",
       "      <td>Pichincha</td>\n",
       "      <td>D</td>\n",
       "      <td>13</td>\n",
       "      <td>Holiday</td>\n",
       "      <td>National</td>\n",
       "      <td>Ecuador</td>\n",
       "      <td>Primer dia del ano</td>\n",
       "      <td>False</td>\n",
       "    </tr>\n",
       "    <tr>\n",
       "      <th>3</th>\n",
       "      <td>3</td>\n",
       "      <td>2013-01-01</td>\n",
       "      <td>1</td>\n",
       "      <td>BEVERAGES</td>\n",
       "      <td>0.0</td>\n",
       "      <td>0</td>\n",
       "      <td>93.14</td>\n",
       "      <td>Quito</td>\n",
       "      <td>Pichincha</td>\n",
       "      <td>D</td>\n",
       "      <td>13</td>\n",
       "      <td>Holiday</td>\n",
       "      <td>National</td>\n",
       "      <td>Ecuador</td>\n",
       "      <td>Primer dia del ano</td>\n",
       "      <td>False</td>\n",
       "    </tr>\n",
       "    <tr>\n",
       "      <th>4</th>\n",
       "      <td>4</td>\n",
       "      <td>2013-01-01</td>\n",
       "      <td>1</td>\n",
       "      <td>BOOKS</td>\n",
       "      <td>0.0</td>\n",
       "      <td>0</td>\n",
       "      <td>93.14</td>\n",
       "      <td>Quito</td>\n",
       "      <td>Pichincha</td>\n",
       "      <td>D</td>\n",
       "      <td>13</td>\n",
       "      <td>Holiday</td>\n",
       "      <td>National</td>\n",
       "      <td>Ecuador</td>\n",
       "      <td>Primer dia del ano</td>\n",
       "      <td>False</td>\n",
       "    </tr>\n",
       "  </tbody>\n",
       "</table>\n",
       "</div>"
      ],
      "text/plain": [
       "   id       date store_nbr      family  sales  onpromotion  dcoilwtico   city  \\\n",
       "0   0 2013-01-01         1  AUTOMOTIVE    0.0            0       93.14  Quito   \n",
       "1   1 2013-01-01         1   BABY CARE    0.0            0       93.14  Quito   \n",
       "2   2 2013-01-01         1      BEAUTY    0.0            0       93.14  Quito   \n",
       "3   3 2013-01-01         1   BEVERAGES    0.0            0       93.14  Quito   \n",
       "4   4 2013-01-01         1       BOOKS    0.0            0       93.14  Quito   \n",
       "\n",
       "       state type  cluster holiday_type    locale locale_name  \\\n",
       "0  Pichincha    D       13      Holiday  National     Ecuador   \n",
       "1  Pichincha    D       13      Holiday  National     Ecuador   \n",
       "2  Pichincha    D       13      Holiday  National     Ecuador   \n",
       "3  Pichincha    D       13      Holiday  National     Ecuador   \n",
       "4  Pichincha    D       13      Holiday  National     Ecuador   \n",
       "\n",
       "          description transferred  \n",
       "0  Primer dia del ano       False  \n",
       "1  Primer dia del ano       False  \n",
       "2  Primer dia del ano       False  \n",
       "3  Primer dia del ano       False  \n",
       "4  Primer dia del ano       False  "
      ]
     },
     "execution_count": 68,
     "metadata": {},
     "output_type": "execute_result"
    }
   ],
   "source": [
    "#merging holidays dataset to train data\n",
    "train1_data= train1_data.merge(holidays_events,how='left' ,on=['date'])\n",
    "train1_data.head()"
   ]
  },
  {
   "cell_type": "code",
   "execution_count": 69,
   "id": "f0564335",
   "metadata": {},
   "outputs": [
    {
     "data": {
      "text/plain": [
       "array(['Holiday', nan, 'Work Day', 'Additional', 'Event', 'Transfer',\n",
       "       'Bridge'], dtype=object)"
      ]
     },
     "execution_count": 69,
     "metadata": {},
     "output_type": "execute_result"
    }
   ],
   "source": [
    "#check the unique holiday dates added\n",
    "train1_data.holiday_type.unique()"
   ]
  },
  {
   "cell_type": "code",
   "execution_count": 70,
   "id": "020d6f40",
   "metadata": {},
   "outputs": [
    {
     "data": {
      "text/html": [
       "<div>\n",
       "<style scoped>\n",
       "    .dataframe tbody tr th:only-of-type {\n",
       "        vertical-align: middle;\n",
       "    }\n",
       "\n",
       "    .dataframe tbody tr th {\n",
       "        vertical-align: top;\n",
       "    }\n",
       "\n",
       "    .dataframe thead th {\n",
       "        text-align: right;\n",
       "    }\n",
       "</style>\n",
       "<table border=\"1\" class=\"dataframe\">\n",
       "  <thead>\n",
       "    <tr style=\"text-align: right;\">\n",
       "      <th></th>\n",
       "      <th>id</th>\n",
       "      <th>date</th>\n",
       "      <th>store_nbr</th>\n",
       "      <th>family</th>\n",
       "      <th>onpromotion</th>\n",
       "      <th>dcoilwtico</th>\n",
       "      <th>city</th>\n",
       "      <th>state</th>\n",
       "      <th>type</th>\n",
       "      <th>cluster</th>\n",
       "      <th>holiday_type</th>\n",
       "      <th>locale</th>\n",
       "      <th>locale_name</th>\n",
       "      <th>description</th>\n",
       "      <th>transferred</th>\n",
       "    </tr>\n",
       "  </thead>\n",
       "  <tbody>\n",
       "    <tr>\n",
       "      <th>0</th>\n",
       "      <td>3000888</td>\n",
       "      <td>2017-08-16</td>\n",
       "      <td>1</td>\n",
       "      <td>AUTOMOTIVE</td>\n",
       "      <td>0</td>\n",
       "      <td>46.8</td>\n",
       "      <td>Quito</td>\n",
       "      <td>Pichincha</td>\n",
       "      <td>D</td>\n",
       "      <td>13</td>\n",
       "      <td>NaN</td>\n",
       "      <td>NaN</td>\n",
       "      <td>NaN</td>\n",
       "      <td>NaN</td>\n",
       "      <td>NaN</td>\n",
       "    </tr>\n",
       "    <tr>\n",
       "      <th>1</th>\n",
       "      <td>3000889</td>\n",
       "      <td>2017-08-16</td>\n",
       "      <td>1</td>\n",
       "      <td>BABY CARE</td>\n",
       "      <td>0</td>\n",
       "      <td>46.8</td>\n",
       "      <td>Quito</td>\n",
       "      <td>Pichincha</td>\n",
       "      <td>D</td>\n",
       "      <td>13</td>\n",
       "      <td>NaN</td>\n",
       "      <td>NaN</td>\n",
       "      <td>NaN</td>\n",
       "      <td>NaN</td>\n",
       "      <td>NaN</td>\n",
       "    </tr>\n",
       "    <tr>\n",
       "      <th>2</th>\n",
       "      <td>3000890</td>\n",
       "      <td>2017-08-16</td>\n",
       "      <td>1</td>\n",
       "      <td>BEAUTY</td>\n",
       "      <td>2</td>\n",
       "      <td>46.8</td>\n",
       "      <td>Quito</td>\n",
       "      <td>Pichincha</td>\n",
       "      <td>D</td>\n",
       "      <td>13</td>\n",
       "      <td>NaN</td>\n",
       "      <td>NaN</td>\n",
       "      <td>NaN</td>\n",
       "      <td>NaN</td>\n",
       "      <td>NaN</td>\n",
       "    </tr>\n",
       "    <tr>\n",
       "      <th>3</th>\n",
       "      <td>3000891</td>\n",
       "      <td>2017-08-16</td>\n",
       "      <td>1</td>\n",
       "      <td>BEVERAGES</td>\n",
       "      <td>20</td>\n",
       "      <td>46.8</td>\n",
       "      <td>Quito</td>\n",
       "      <td>Pichincha</td>\n",
       "      <td>D</td>\n",
       "      <td>13</td>\n",
       "      <td>NaN</td>\n",
       "      <td>NaN</td>\n",
       "      <td>NaN</td>\n",
       "      <td>NaN</td>\n",
       "      <td>NaN</td>\n",
       "    </tr>\n",
       "    <tr>\n",
       "      <th>4</th>\n",
       "      <td>3000892</td>\n",
       "      <td>2017-08-16</td>\n",
       "      <td>1</td>\n",
       "      <td>BOOKS</td>\n",
       "      <td>0</td>\n",
       "      <td>46.8</td>\n",
       "      <td>Quito</td>\n",
       "      <td>Pichincha</td>\n",
       "      <td>D</td>\n",
       "      <td>13</td>\n",
       "      <td>NaN</td>\n",
       "      <td>NaN</td>\n",
       "      <td>NaN</td>\n",
       "      <td>NaN</td>\n",
       "      <td>NaN</td>\n",
       "    </tr>\n",
       "  </tbody>\n",
       "</table>\n",
       "</div>"
      ],
      "text/plain": [
       "        id       date store_nbr      family  onpromotion  dcoilwtico   city  \\\n",
       "0  3000888 2017-08-16         1  AUTOMOTIVE            0        46.8  Quito   \n",
       "1  3000889 2017-08-16         1   BABY CARE            0        46.8  Quito   \n",
       "2  3000890 2017-08-16         1      BEAUTY            2        46.8  Quito   \n",
       "3  3000891 2017-08-16         1   BEVERAGES           20        46.8  Quito   \n",
       "4  3000892 2017-08-16         1       BOOKS            0        46.8  Quito   \n",
       "\n",
       "       state type  cluster holiday_type locale locale_name description  \\\n",
       "0  Pichincha    D       13          NaN    NaN         NaN         NaN   \n",
       "1  Pichincha    D       13          NaN    NaN         NaN         NaN   \n",
       "2  Pichincha    D       13          NaN    NaN         NaN         NaN   \n",
       "3  Pichincha    D       13          NaN    NaN         NaN         NaN   \n",
       "4  Pichincha    D       13          NaN    NaN         NaN         NaN   \n",
       "\n",
       "  transferred  \n",
       "0         NaN  \n",
       "1         NaN  \n",
       "2         NaN  \n",
       "3         NaN  \n",
       "4         NaN  "
      ]
     },
     "execution_count": 70,
     "metadata": {},
     "output_type": "execute_result"
    }
   ],
   "source": [
    "#merging holidays dataset to test data\n",
    "test1_data= test1_data.merge(holidays_events,how='left' ,on=['date'])\n",
    "test1_data.head()"
   ]
  },
  {
   "cell_type": "code",
   "execution_count": 71,
   "id": "bf74780c",
   "metadata": {},
   "outputs": [],
   "source": [
    "\n",
    "holidays_events['date'] = pd.to_datetime(holidays_events['date'])"
   ]
  },
  {
   "cell_type": "markdown",
   "id": "f1be9902",
   "metadata": {},
   "source": [
    "### New Feature Creation"
   ]
  },
  {
   "cell_type": "code",
   "execution_count": 72,
   "id": "9f955bcb",
   "metadata": {},
   "outputs": [],
   "source": [
    "# Extracting year, month, day and week,etc and making new column\n",
    "def getDateFeatures(df, date):\n",
    "    df['date'] = pd.to_datetime(df['date'])\n",
    "    df['month'] = df.date.dt.month\n",
    "    df['day_of_month'] = df.date.dt.day\n",
    "    df['day_of_year'] = df.date.dt.dayofyear\n",
    "    df['week_of_year'] = df.date.dt.isocalendar().week\n",
    "    df['day_of_week'] = df.date.dt.dayofweek\n",
    "    df['year'] = df.date.dt.year\n",
    "    df['is_weekend']= np.where(df['day_of_week'] > 4, 1, 0)\n",
    "    df['is_month_start']= df.date.dt.is_month_start.astype(int)\n",
    "    df['is_month_end']= df.date.dt.is_month_end.astype(int)\n",
    "    df['quarter']= df.date.dt.quarter\n",
    "    df['is_quarter_start']= df.date.dt.is_quarter_start.astype(int)\n",
    "    df['is_quarter_end']= df.date.dt.is_quarter_end.astype(int)\n",
    "    df['is_year_start']= df.date.dt.is_year_start.astype(int)\n",
    "    \n",
    "    return df"
   ]
  },
  {
   "cell_type": "code",
   "execution_count": 73,
   "id": "01bb1f6b",
   "metadata": {},
   "outputs": [],
   "source": [
    "def dayType(row):\n",
    "    # Denote work days and holidays for days that were not holidays\n",
    "    if row.holiday_type is np.NaN: \n",
    "        if row.is_weekend == 0:\n",
    "            return 'Workday'\n",
    "        else:\n",
    "            return 'No Work'\n",
    "    # Denote special days\n",
    "    elif row.holiday_type == 'Transfer' or row.holiday_type == 'Additional' or row.holiday_type == 'Bridge' or row.holiday_type == 'Event':\n",
    "        return 'Special'\n",
    "    # Rename work days\n",
    "    elif row.holiday_type == 'Work Day':\n",
    "        return 'Workday'\n",
    "    # Add transferred holidays to special days\n",
    "    elif row.transferred:\n",
    "        return 'Special'\n",
    "    else:\n",
    "        return row.holiday_type"
   ]
  },
  {
   "cell_type": "code",
   "execution_count": 74,
   "id": "fa0e8d0d",
   "metadata": {},
   "outputs": [],
   "source": [
    "#add the new function to the data set\n",
    "train_d = getDateFeatures(train1_data, 'date')"
   ]
  },
  {
   "cell_type": "code",
   "execution_count": 75,
   "id": "d438c9b5",
   "metadata": {},
   "outputs": [
    {
     "data": {
      "text/html": [
       "<div>\n",
       "<style scoped>\n",
       "    .dataframe tbody tr th:only-of-type {\n",
       "        vertical-align: middle;\n",
       "    }\n",
       "\n",
       "    .dataframe tbody tr th {\n",
       "        vertical-align: top;\n",
       "    }\n",
       "\n",
       "    .dataframe thead th {\n",
       "        text-align: right;\n",
       "    }\n",
       "</style>\n",
       "<table border=\"1\" class=\"dataframe\">\n",
       "  <thead>\n",
       "    <tr style=\"text-align: right;\">\n",
       "      <th></th>\n",
       "      <th>id</th>\n",
       "      <th>date</th>\n",
       "      <th>store_nbr</th>\n",
       "      <th>family</th>\n",
       "      <th>sales</th>\n",
       "      <th>onpromotion</th>\n",
       "      <th>dcoilwtico</th>\n",
       "      <th>city</th>\n",
       "      <th>state</th>\n",
       "      <th>type</th>\n",
       "      <th>...</th>\n",
       "      <th>day_of_week</th>\n",
       "      <th>year</th>\n",
       "      <th>is_weekend</th>\n",
       "      <th>is_month_start</th>\n",
       "      <th>is_month_end</th>\n",
       "      <th>quarter</th>\n",
       "      <th>is_quarter_start</th>\n",
       "      <th>is_quarter_end</th>\n",
       "      <th>is_year_start</th>\n",
       "      <th>day_type</th>\n",
       "    </tr>\n",
       "  </thead>\n",
       "  <tbody>\n",
       "    <tr>\n",
       "      <th>0</th>\n",
       "      <td>0</td>\n",
       "      <td>2013-01-01</td>\n",
       "      <td>1</td>\n",
       "      <td>AUTOMOTIVE</td>\n",
       "      <td>0.0</td>\n",
       "      <td>0</td>\n",
       "      <td>93.14</td>\n",
       "      <td>Quito</td>\n",
       "      <td>Pichincha</td>\n",
       "      <td>D</td>\n",
       "      <td>...</td>\n",
       "      <td>1</td>\n",
       "      <td>2013</td>\n",
       "      <td>0</td>\n",
       "      <td>1</td>\n",
       "      <td>0</td>\n",
       "      <td>1</td>\n",
       "      <td>1</td>\n",
       "      <td>0</td>\n",
       "      <td>1</td>\n",
       "      <td>Holiday</td>\n",
       "    </tr>\n",
       "    <tr>\n",
       "      <th>1</th>\n",
       "      <td>1</td>\n",
       "      <td>2013-01-01</td>\n",
       "      <td>1</td>\n",
       "      <td>BABY CARE</td>\n",
       "      <td>0.0</td>\n",
       "      <td>0</td>\n",
       "      <td>93.14</td>\n",
       "      <td>Quito</td>\n",
       "      <td>Pichincha</td>\n",
       "      <td>D</td>\n",
       "      <td>...</td>\n",
       "      <td>1</td>\n",
       "      <td>2013</td>\n",
       "      <td>0</td>\n",
       "      <td>1</td>\n",
       "      <td>0</td>\n",
       "      <td>1</td>\n",
       "      <td>1</td>\n",
       "      <td>0</td>\n",
       "      <td>1</td>\n",
       "      <td>Holiday</td>\n",
       "    </tr>\n",
       "    <tr>\n",
       "      <th>2</th>\n",
       "      <td>2</td>\n",
       "      <td>2013-01-01</td>\n",
       "      <td>1</td>\n",
       "      <td>BEAUTY</td>\n",
       "      <td>0.0</td>\n",
       "      <td>0</td>\n",
       "      <td>93.14</td>\n",
       "      <td>Quito</td>\n",
       "      <td>Pichincha</td>\n",
       "      <td>D</td>\n",
       "      <td>...</td>\n",
       "      <td>1</td>\n",
       "      <td>2013</td>\n",
       "      <td>0</td>\n",
       "      <td>1</td>\n",
       "      <td>0</td>\n",
       "      <td>1</td>\n",
       "      <td>1</td>\n",
       "      <td>0</td>\n",
       "      <td>1</td>\n",
       "      <td>Holiday</td>\n",
       "    </tr>\n",
       "    <tr>\n",
       "      <th>3</th>\n",
       "      <td>3</td>\n",
       "      <td>2013-01-01</td>\n",
       "      <td>1</td>\n",
       "      <td>BEVERAGES</td>\n",
       "      <td>0.0</td>\n",
       "      <td>0</td>\n",
       "      <td>93.14</td>\n",
       "      <td>Quito</td>\n",
       "      <td>Pichincha</td>\n",
       "      <td>D</td>\n",
       "      <td>...</td>\n",
       "      <td>1</td>\n",
       "      <td>2013</td>\n",
       "      <td>0</td>\n",
       "      <td>1</td>\n",
       "      <td>0</td>\n",
       "      <td>1</td>\n",
       "      <td>1</td>\n",
       "      <td>0</td>\n",
       "      <td>1</td>\n",
       "      <td>Holiday</td>\n",
       "    </tr>\n",
       "    <tr>\n",
       "      <th>4</th>\n",
       "      <td>4</td>\n",
       "      <td>2013-01-01</td>\n",
       "      <td>1</td>\n",
       "      <td>BOOKS</td>\n",
       "      <td>0.0</td>\n",
       "      <td>0</td>\n",
       "      <td>93.14</td>\n",
       "      <td>Quito</td>\n",
       "      <td>Pichincha</td>\n",
       "      <td>D</td>\n",
       "      <td>...</td>\n",
       "      <td>1</td>\n",
       "      <td>2013</td>\n",
       "      <td>0</td>\n",
       "      <td>1</td>\n",
       "      <td>0</td>\n",
       "      <td>1</td>\n",
       "      <td>1</td>\n",
       "      <td>0</td>\n",
       "      <td>1</td>\n",
       "      <td>Holiday</td>\n",
       "    </tr>\n",
       "  </tbody>\n",
       "</table>\n",
       "<p>5 rows × 30 columns</p>\n",
       "</div>"
      ],
      "text/plain": [
       "   id       date store_nbr      family  sales  onpromotion  dcoilwtico   city  \\\n",
       "0   0 2013-01-01         1  AUTOMOTIVE    0.0            0       93.14  Quito   \n",
       "1   1 2013-01-01         1   BABY CARE    0.0            0       93.14  Quito   \n",
       "2   2 2013-01-01         1      BEAUTY    0.0            0       93.14  Quito   \n",
       "3   3 2013-01-01         1   BEVERAGES    0.0            0       93.14  Quito   \n",
       "4   4 2013-01-01         1       BOOKS    0.0            0       93.14  Quito   \n",
       "\n",
       "       state type  ...  day_of_week  year is_weekend is_month_start  \\\n",
       "0  Pichincha    D  ...            1  2013          0              1   \n",
       "1  Pichincha    D  ...            1  2013          0              1   \n",
       "2  Pichincha    D  ...            1  2013          0              1   \n",
       "3  Pichincha    D  ...            1  2013          0              1   \n",
       "4  Pichincha    D  ...            1  2013          0              1   \n",
       "\n",
       "  is_month_end quarter  is_quarter_start  is_quarter_end  is_year_start  \\\n",
       "0            0       1                 1               0              1   \n",
       "1            0       1                 1               0              1   \n",
       "2            0       1                 1               0              1   \n",
       "3            0       1                 1               0              1   \n",
       "4            0       1                 1               0              1   \n",
       "\n",
       "   day_type  \n",
       "0   Holiday  \n",
       "1   Holiday  \n",
       "2   Holiday  \n",
       "3   Holiday  \n",
       "4   Holiday  \n",
       "\n",
       "[5 rows x 30 columns]"
      ]
     },
     "execution_count": 75,
     "metadata": {},
     "output_type": "execute_result"
    }
   ],
   "source": [
    "# the new data set with the added features\n",
    "train_d['day_type'] = train_d.apply(dayType,axis=1)\n",
    "train_d.head()"
   ]
  },
  {
   "cell_type": "code",
   "execution_count": 76,
   "id": "956129fb",
   "metadata": {},
   "outputs": [
    {
     "name": "stdout",
     "output_type": "stream",
     "text": [
      "<class 'pandas.core.frame.DataFrame'>\n",
      "Int64Index: 3054348 entries, 0 to 3054347\n",
      "Data columns (total 30 columns):\n",
      " #   Column            Non-Null Count    Dtype         \n",
      "---  ------            --------------    -----         \n",
      " 0   id                3054348 non-null  int64         \n",
      " 1   date              3054348 non-null  datetime64[ns]\n",
      " 2   store_nbr         3054348 non-null  object        \n",
      " 3   family            3054348 non-null  object        \n",
      " 4   sales             3054348 non-null  float64       \n",
      " 5   onpromotion       3054348 non-null  int64         \n",
      " 6   dcoilwtico        2175822 non-null  float64       \n",
      " 7   city              3054348 non-null  object        \n",
      " 8   state             3054348 non-null  object        \n",
      " 9   type              3054348 non-null  object        \n",
      " 10  cluster           3054348 non-null  int64         \n",
      " 11  holiday_type      502524 non-null   object        \n",
      " 12  locale            502524 non-null   object        \n",
      " 13  locale_name       502524 non-null   object        \n",
      " 14  description       502524 non-null   object        \n",
      " 15  transferred       502524 non-null   object        \n",
      " 16  month             3054348 non-null  int64         \n",
      " 17  day_of_month      3054348 non-null  int64         \n",
      " 18  day_of_year       3054348 non-null  int64         \n",
      " 19  week_of_year      3054348 non-null  UInt32        \n",
      " 20  day_of_week       3054348 non-null  int64         \n",
      " 21  year              3054348 non-null  int64         \n",
      " 22  is_weekend        3054348 non-null  int32         \n",
      " 23  is_month_start    3054348 non-null  int32         \n",
      " 24  is_month_end      3054348 non-null  int32         \n",
      " 25  quarter           3054348 non-null  int64         \n",
      " 26  is_quarter_start  3054348 non-null  int32         \n",
      " 27  is_quarter_end    3054348 non-null  int32         \n",
      " 28  is_year_start     3054348 non-null  int32         \n",
      " 29  day_type          3054348 non-null  object        \n",
      "dtypes: UInt32(1), datetime64[ns](1), float64(2), int32(6), int64(9), object(11)\n",
      "memory usage: 643.7+ MB\n"
     ]
    }
   ],
   "source": [
    "train_d.info(show_counts = True)"
   ]
  },
  {
   "cell_type": "code",
   "execution_count": 77,
   "id": "45f96346",
   "metadata": {},
   "outputs": [],
   "source": [
    "# fill the missing values with none\n",
    "train_d.replace({'locale': {np.nan: 'None'},\n",
    "                  'locale_name': {np.nan: 'None'},\n",
    "                  'transferred': {np.nan: False}}, inplace=True)"
   ]
  },
  {
   "cell_type": "markdown",
   "id": "10a2b9f4",
   "metadata": {},
   "source": [
    "### Features Encoding"
   ]
  },
  {
   "cell_type": "code",
   "execution_count": 78,
   "id": "6596af4c",
   "metadata": {},
   "outputs": [],
   "source": [
    "#using the label encoder to handle the categorical variables\n",
    "encoder = preprocessing.LabelEncoder()\n",
    "cols = ['family','city', 'state', 'type', 'locale', 'locale_name', 'day_type', 'transferred']\n",
    "\n",
    "for col in cols:\n",
    "    train_d[col] = encoder.fit_transform(train1_data[col])"
   ]
  },
  {
   "cell_type": "code",
   "execution_count": 79,
   "id": "eb0e0bf7",
   "metadata": {},
   "outputs": [],
   "source": [
    "#working on the promotion column\n",
    "min_p = train_d['onpromotion'].min()\n",
    "max_p = train_d['onpromotion'].max()\n",
    "\n",
    "#add bins to deal with the different values\n",
    "bins = np.arange(min_p, max_p, (max_p - min_p)/5)\n",
    "labels = [f\"bin_{i}\" for i in range(len(bins) -1)]\n",
    "\n",
    "train_d['promotion'] = pd.cut(train_d['onpromotion'], bins = bins, labels = labels)"
   ]
  },
  {
   "cell_type": "code",
   "execution_count": 80,
   "id": "c356e393",
   "metadata": {},
   "outputs": [],
   "source": [
    "#using the mode to fill in missing values in promotion column\n",
    "mode = train_d['promotion'].mode()[0]\n",
    "train_d['promotion'].fillna(mode, inplace=True)"
   ]
  },
  {
   "cell_type": "code",
   "execution_count": 81,
   "id": "89e0ec54",
   "metadata": {},
   "outputs": [],
   "source": [
    "promotion_encoder = LabelEncoder()\n",
    "train_d['promotion'] = promotion_encoder.fit_transform(train_d['promotion'])"
   ]
  },
  {
   "cell_type": "code",
   "execution_count": 82,
   "id": "224b676c",
   "metadata": {},
   "outputs": [
    {
     "data": {
      "text/html": [
       "<div>\n",
       "<style scoped>\n",
       "    .dataframe tbody tr th:only-of-type {\n",
       "        vertical-align: middle;\n",
       "    }\n",
       "\n",
       "    .dataframe tbody tr th {\n",
       "        vertical-align: top;\n",
       "    }\n",
       "\n",
       "    .dataframe thead th {\n",
       "        text-align: right;\n",
       "    }\n",
       "</style>\n",
       "<table border=\"1\" class=\"dataframe\">\n",
       "  <thead>\n",
       "    <tr style=\"text-align: right;\">\n",
       "      <th></th>\n",
       "      <th>id</th>\n",
       "      <th>date</th>\n",
       "      <th>store_nbr</th>\n",
       "      <th>family</th>\n",
       "      <th>sales</th>\n",
       "      <th>onpromotion</th>\n",
       "      <th>dcoilwtico</th>\n",
       "      <th>city</th>\n",
       "      <th>state</th>\n",
       "      <th>type</th>\n",
       "      <th>...</th>\n",
       "      <th>year</th>\n",
       "      <th>is_weekend</th>\n",
       "      <th>is_month_start</th>\n",
       "      <th>is_month_end</th>\n",
       "      <th>quarter</th>\n",
       "      <th>is_quarter_start</th>\n",
       "      <th>is_quarter_end</th>\n",
       "      <th>is_year_start</th>\n",
       "      <th>day_type</th>\n",
       "      <th>promotion</th>\n",
       "    </tr>\n",
       "  </thead>\n",
       "  <tbody>\n",
       "    <tr>\n",
       "      <th>0</th>\n",
       "      <td>0</td>\n",
       "      <td>2013-01-01</td>\n",
       "      <td>1</td>\n",
       "      <td>0</td>\n",
       "      <td>0.0</td>\n",
       "      <td>0</td>\n",
       "      <td>93.14</td>\n",
       "      <td>18</td>\n",
       "      <td>12</td>\n",
       "      <td>3</td>\n",
       "      <td>...</td>\n",
       "      <td>2013</td>\n",
       "      <td>0</td>\n",
       "      <td>1</td>\n",
       "      <td>0</td>\n",
       "      <td>1</td>\n",
       "      <td>1</td>\n",
       "      <td>0</td>\n",
       "      <td>1</td>\n",
       "      <td>0</td>\n",
       "      <td>0</td>\n",
       "    </tr>\n",
       "    <tr>\n",
       "      <th>1</th>\n",
       "      <td>1</td>\n",
       "      <td>2013-01-01</td>\n",
       "      <td>1</td>\n",
       "      <td>1</td>\n",
       "      <td>0.0</td>\n",
       "      <td>0</td>\n",
       "      <td>93.14</td>\n",
       "      <td>18</td>\n",
       "      <td>12</td>\n",
       "      <td>3</td>\n",
       "      <td>...</td>\n",
       "      <td>2013</td>\n",
       "      <td>0</td>\n",
       "      <td>1</td>\n",
       "      <td>0</td>\n",
       "      <td>1</td>\n",
       "      <td>1</td>\n",
       "      <td>0</td>\n",
       "      <td>1</td>\n",
       "      <td>0</td>\n",
       "      <td>0</td>\n",
       "    </tr>\n",
       "    <tr>\n",
       "      <th>2</th>\n",
       "      <td>2</td>\n",
       "      <td>2013-01-01</td>\n",
       "      <td>1</td>\n",
       "      <td>2</td>\n",
       "      <td>0.0</td>\n",
       "      <td>0</td>\n",
       "      <td>93.14</td>\n",
       "      <td>18</td>\n",
       "      <td>12</td>\n",
       "      <td>3</td>\n",
       "      <td>...</td>\n",
       "      <td>2013</td>\n",
       "      <td>0</td>\n",
       "      <td>1</td>\n",
       "      <td>0</td>\n",
       "      <td>1</td>\n",
       "      <td>1</td>\n",
       "      <td>0</td>\n",
       "      <td>1</td>\n",
       "      <td>0</td>\n",
       "      <td>0</td>\n",
       "    </tr>\n",
       "    <tr>\n",
       "      <th>3</th>\n",
       "      <td>3</td>\n",
       "      <td>2013-01-01</td>\n",
       "      <td>1</td>\n",
       "      <td>3</td>\n",
       "      <td>0.0</td>\n",
       "      <td>0</td>\n",
       "      <td>93.14</td>\n",
       "      <td>18</td>\n",
       "      <td>12</td>\n",
       "      <td>3</td>\n",
       "      <td>...</td>\n",
       "      <td>2013</td>\n",
       "      <td>0</td>\n",
       "      <td>1</td>\n",
       "      <td>0</td>\n",
       "      <td>1</td>\n",
       "      <td>1</td>\n",
       "      <td>0</td>\n",
       "      <td>1</td>\n",
       "      <td>0</td>\n",
       "      <td>0</td>\n",
       "    </tr>\n",
       "    <tr>\n",
       "      <th>4</th>\n",
       "      <td>4</td>\n",
       "      <td>2013-01-01</td>\n",
       "      <td>1</td>\n",
       "      <td>4</td>\n",
       "      <td>0.0</td>\n",
       "      <td>0</td>\n",
       "      <td>93.14</td>\n",
       "      <td>18</td>\n",
       "      <td>12</td>\n",
       "      <td>3</td>\n",
       "      <td>...</td>\n",
       "      <td>2013</td>\n",
       "      <td>0</td>\n",
       "      <td>1</td>\n",
       "      <td>0</td>\n",
       "      <td>1</td>\n",
       "      <td>1</td>\n",
       "      <td>0</td>\n",
       "      <td>1</td>\n",
       "      <td>0</td>\n",
       "      <td>0</td>\n",
       "    </tr>\n",
       "  </tbody>\n",
       "</table>\n",
       "<p>5 rows × 31 columns</p>\n",
       "</div>"
      ],
      "text/plain": [
       "   id       date store_nbr  family  sales  onpromotion  dcoilwtico  city  \\\n",
       "0   0 2013-01-01         1       0    0.0            0       93.14    18   \n",
       "1   1 2013-01-01         1       1    0.0            0       93.14    18   \n",
       "2   2 2013-01-01         1       2    0.0            0       93.14    18   \n",
       "3   3 2013-01-01         1       3    0.0            0       93.14    18   \n",
       "4   4 2013-01-01         1       4    0.0            0       93.14    18   \n",
       "\n",
       "   state  type  ...  year is_weekend  is_month_start  is_month_end quarter  \\\n",
       "0     12     3  ...  2013          0               1             0       1   \n",
       "1     12     3  ...  2013          0               1             0       1   \n",
       "2     12     3  ...  2013          0               1             0       1   \n",
       "3     12     3  ...  2013          0               1             0       1   \n",
       "4     12     3  ...  2013          0               1             0       1   \n",
       "\n",
       "   is_quarter_start  is_quarter_end  is_year_start  day_type  promotion  \n",
       "0                 1               0              1         0          0  \n",
       "1                 1               0              1         0          0  \n",
       "2                 1               0              1         0          0  \n",
       "3                 1               0              1         0          0  \n",
       "4                 1               0              1         0          0  \n",
       "\n",
       "[5 rows x 31 columns]"
      ]
     },
     "execution_count": 82,
     "metadata": {},
     "output_type": "execute_result"
    }
   ],
   "source": [
    "#final data\n",
    "train_d.head()\n"
   ]
  },
  {
   "cell_type": "code",
   "execution_count": 83,
   "id": "c0ff6d77",
   "metadata": {},
   "outputs": [
    {
     "data": {
      "text/plain": [
       "id                        0\n",
       "date                      0\n",
       "store_nbr                 0\n",
       "family                    0\n",
       "sales                     0\n",
       "onpromotion               0\n",
       "dcoilwtico           878526\n",
       "city                      0\n",
       "state                     0\n",
       "type                      0\n",
       "cluster                   0\n",
       "holiday_type        2551824\n",
       "locale                    0\n",
       "locale_name               0\n",
       "description         2551824\n",
       "transferred               0\n",
       "month                     0\n",
       "day_of_month              0\n",
       "day_of_year               0\n",
       "week_of_year              0\n",
       "day_of_week               0\n",
       "year                      0\n",
       "is_weekend                0\n",
       "is_month_start            0\n",
       "is_month_end              0\n",
       "quarter                   0\n",
       "is_quarter_start          0\n",
       "is_quarter_end            0\n",
       "is_year_start             0\n",
       "day_type                  0\n",
       "promotion                 0\n",
       "dtype: int64"
      ]
     },
     "execution_count": 83,
     "metadata": {},
     "output_type": "execute_result"
    }
   ],
   "source": [
    "#checking for missing values\n",
    "train_d.isnull().sum()"
   ]
  },
  {
   "cell_type": "markdown",
   "id": "d4e9a130",
   "metadata": {},
   "source": [
    "### Data set Splitting"
   ]
  },
  {
   "cell_type": "code",
   "execution_count": 84,
   "id": "36c9da92",
   "metadata": {},
   "outputs": [],
   "source": [
    "train_d = train_d.set_index('date')\n",
    "final_data1 = train_d.resample('D').mean()"
   ]
  },
  {
   "cell_type": "code",
   "execution_count": 85,
   "id": "c6a0f827",
   "metadata": {},
   "outputs": [],
   "source": [
    "final_data2 = final_data1.copy()\n",
    "final_data2.reset_index(inplace=True)"
   ]
  },
  {
   "cell_type": "code",
   "execution_count": 86,
   "id": "dfdbef7a",
   "metadata": {},
   "outputs": [],
   "source": [
    "# using the standard scaler to scale the data\n",
    "final_data2.fillna(0, inplace=True)\n",
    "scaler = StandardScaler()\n",
    "final_data2[final_data2.columns[1:]]= scaler.fit_transform(final_data2[final_data2.columns[1:]])"
   ]
  },
  {
   "cell_type": "code",
   "execution_count": 87,
   "id": "18b9f744",
   "metadata": {},
   "outputs": [],
   "source": [
    "final_df = pd.DataFrame(final_data2, columns = final_data2.columns)"
   ]
  },
  {
   "cell_type": "code",
   "execution_count": 88,
   "id": "7bd862c4",
   "metadata": {},
   "outputs": [
    {
     "data": {
      "text/html": [
       "<div>\n",
       "<style scoped>\n",
       "    .dataframe tbody tr th:only-of-type {\n",
       "        vertical-align: middle;\n",
       "    }\n",
       "\n",
       "    .dataframe tbody tr th {\n",
       "        vertical-align: top;\n",
       "    }\n",
       "\n",
       "    .dataframe thead th {\n",
       "        text-align: right;\n",
       "    }\n",
       "</style>\n",
       "<table border=\"1\" class=\"dataframe\">\n",
       "  <thead>\n",
       "    <tr style=\"text-align: right;\">\n",
       "      <th></th>\n",
       "      <th>date</th>\n",
       "      <th>id</th>\n",
       "      <th>family</th>\n",
       "      <th>sales</th>\n",
       "      <th>onpromotion</th>\n",
       "      <th>dcoilwtico</th>\n",
       "      <th>city</th>\n",
       "      <th>state</th>\n",
       "      <th>type</th>\n",
       "      <th>cluster</th>\n",
       "      <th>...</th>\n",
       "      <th>year</th>\n",
       "      <th>is_weekend</th>\n",
       "      <th>is_month_start</th>\n",
       "      <th>is_month_end</th>\n",
       "      <th>quarter</th>\n",
       "      <th>is_quarter_start</th>\n",
       "      <th>is_quarter_end</th>\n",
       "      <th>is_year_start</th>\n",
       "      <th>day_type</th>\n",
       "      <th>promotion</th>\n",
       "    </tr>\n",
       "  </thead>\n",
       "  <tbody>\n",
       "    <tr>\n",
       "      <th>0</th>\n",
       "      <td>2013-01-01</td>\n",
       "      <td>-1.722855</td>\n",
       "      <td>0.048737</td>\n",
       "      <td>-2.683254</td>\n",
       "      <td>-0.85446</td>\n",
       "      <td>1.190550</td>\n",
       "      <td>0.048737</td>\n",
       "      <td>0.048737</td>\n",
       "      <td>0.048737</td>\n",
       "      <td>0.048737</td>\n",
       "      <td>...</td>\n",
       "      <td>0.029973</td>\n",
       "      <td>-0.631275</td>\n",
       "      <td>5.398412</td>\n",
       "      <td>-0.183522</td>\n",
       "      <td>-1.271288</td>\n",
       "      <td>9.372412</td>\n",
       "      <td>-0.103819</td>\n",
       "      <td>18.346662</td>\n",
       "      <td>-2.045383</td>\n",
       "      <td>-0.32765</td>\n",
       "    </tr>\n",
       "    <tr>\n",
       "      <th>1</th>\n",
       "      <td>2013-01-02</td>\n",
       "      <td>-1.720803</td>\n",
       "      <td>0.048737</td>\n",
       "      <td>-0.592754</td>\n",
       "      <td>-0.85446</td>\n",
       "      <td>1.190550</td>\n",
       "      <td>0.048737</td>\n",
       "      <td>0.048737</td>\n",
       "      <td>0.048737</td>\n",
       "      <td>0.048737</td>\n",
       "      <td>...</td>\n",
       "      <td>0.029973</td>\n",
       "      <td>-0.631275</td>\n",
       "      <td>-0.185240</td>\n",
       "      <td>-0.183522</td>\n",
       "      <td>-1.271288</td>\n",
       "      <td>-0.106696</td>\n",
       "      <td>-0.103819</td>\n",
       "      <td>-0.054506</td>\n",
       "      <td>0.751004</td>\n",
       "      <td>-0.32765</td>\n",
       "    </tr>\n",
       "    <tr>\n",
       "      <th>2</th>\n",
       "      <td>2013-01-03</td>\n",
       "      <td>-1.718750</td>\n",
       "      <td>0.048737</td>\n",
       "      <td>-1.162968</td>\n",
       "      <td>-0.85446</td>\n",
       "      <td>1.186028</td>\n",
       "      <td>0.048737</td>\n",
       "      <td>0.048737</td>\n",
       "      <td>0.048737</td>\n",
       "      <td>0.048737</td>\n",
       "      <td>...</td>\n",
       "      <td>0.029973</td>\n",
       "      <td>-0.631275</td>\n",
       "      <td>-0.185240</td>\n",
       "      <td>-0.183522</td>\n",
       "      <td>-1.271288</td>\n",
       "      <td>-0.106696</td>\n",
       "      <td>-0.103819</td>\n",
       "      <td>-0.054506</td>\n",
       "      <td>0.751004</td>\n",
       "      <td>-0.32765</td>\n",
       "    </tr>\n",
       "    <tr>\n",
       "      <th>3</th>\n",
       "      <td>2013-01-04</td>\n",
       "      <td>-1.716698</td>\n",
       "      <td>0.048737</td>\n",
       "      <td>-1.192622</td>\n",
       "      <td>-0.85446</td>\n",
       "      <td>1.190018</td>\n",
       "      <td>0.048737</td>\n",
       "      <td>0.048737</td>\n",
       "      <td>0.048737</td>\n",
       "      <td>0.048737</td>\n",
       "      <td>...</td>\n",
       "      <td>0.029973</td>\n",
       "      <td>-0.631275</td>\n",
       "      <td>-0.185240</td>\n",
       "      <td>-0.183522</td>\n",
       "      <td>-1.271288</td>\n",
       "      <td>-0.106696</td>\n",
       "      <td>-0.103819</td>\n",
       "      <td>-0.054506</td>\n",
       "      <td>0.751004</td>\n",
       "      <td>-0.32765</td>\n",
       "    </tr>\n",
       "    <tr>\n",
       "      <th>4</th>\n",
       "      <td>2013-01-05</td>\n",
       "      <td>-1.714646</td>\n",
       "      <td>0.048737</td>\n",
       "      <td>-0.672135</td>\n",
       "      <td>-0.85446</td>\n",
       "      <td>-1.286956</td>\n",
       "      <td>0.048737</td>\n",
       "      <td>0.048737</td>\n",
       "      <td>0.048737</td>\n",
       "      <td>0.048737</td>\n",
       "      <td>...</td>\n",
       "      <td>0.029973</td>\n",
       "      <td>1.584095</td>\n",
       "      <td>-0.185240</td>\n",
       "      <td>-0.183522</td>\n",
       "      <td>-1.271288</td>\n",
       "      <td>-0.106696</td>\n",
       "      <td>-0.103819</td>\n",
       "      <td>-0.054506</td>\n",
       "      <td>0.751004</td>\n",
       "      <td>-0.32765</td>\n",
       "    </tr>\n",
       "  </tbody>\n",
       "</table>\n",
       "<p>5 rows × 28 columns</p>\n",
       "</div>"
      ],
      "text/plain": [
       "        date        id    family     sales  onpromotion  dcoilwtico      city  \\\n",
       "0 2013-01-01 -1.722855  0.048737 -2.683254     -0.85446    1.190550  0.048737   \n",
       "1 2013-01-02 -1.720803  0.048737 -0.592754     -0.85446    1.190550  0.048737   \n",
       "2 2013-01-03 -1.718750  0.048737 -1.162968     -0.85446    1.186028  0.048737   \n",
       "3 2013-01-04 -1.716698  0.048737 -1.192622     -0.85446    1.190018  0.048737   \n",
       "4 2013-01-05 -1.714646  0.048737 -0.672135     -0.85446   -1.286956  0.048737   \n",
       "\n",
       "      state      type   cluster  ...      year  is_weekend  is_month_start  \\\n",
       "0  0.048737  0.048737  0.048737  ...  0.029973   -0.631275        5.398412   \n",
       "1  0.048737  0.048737  0.048737  ...  0.029973   -0.631275       -0.185240   \n",
       "2  0.048737  0.048737  0.048737  ...  0.029973   -0.631275       -0.185240   \n",
       "3  0.048737  0.048737  0.048737  ...  0.029973   -0.631275       -0.185240   \n",
       "4  0.048737  0.048737  0.048737  ...  0.029973    1.584095       -0.185240   \n",
       "\n",
       "   is_month_end   quarter  is_quarter_start  is_quarter_end  is_year_start  \\\n",
       "0     -0.183522 -1.271288          9.372412       -0.103819      18.346662   \n",
       "1     -0.183522 -1.271288         -0.106696       -0.103819      -0.054506   \n",
       "2     -0.183522 -1.271288         -0.106696       -0.103819      -0.054506   \n",
       "3     -0.183522 -1.271288         -0.106696       -0.103819      -0.054506   \n",
       "4     -0.183522 -1.271288         -0.106696       -0.103819      -0.054506   \n",
       "\n",
       "   day_type  promotion  \n",
       "0 -2.045383   -0.32765  \n",
       "1  0.751004   -0.32765  \n",
       "2  0.751004   -0.32765  \n",
       "3  0.751004   -0.32765  \n",
       "4  0.751004   -0.32765  \n",
       "\n",
       "[5 rows x 28 columns]"
      ]
     },
     "execution_count": 88,
     "metadata": {},
     "output_type": "execute_result"
    }
   ],
   "source": [
    "final_df.head()"
   ]
  },
  {
   "cell_type": "code",
   "execution_count": 89,
   "id": "7c667fcb",
   "metadata": {},
   "outputs": [],
   "source": [
    "#drop some columns that are not needed\n",
    "#drop_col = ['id','holiday_type','description','dcoilwtico']\n",
    "drop_col = ['id','dcoilwtico']\n",
    "final_df =final_df.drop(columns=drop_col)"
   ]
  },
  {
   "cell_type": "code",
   "execution_count": 90,
   "id": "11070699",
   "metadata": {},
   "outputs": [],
   "source": [
    "#set date as the index\n",
    "final_df.set_index('date', inplace=True)\n",
    "#handle the negative variables after scaling\n",
    "final_df = abs(final_df)"
   ]
  },
  {
   "cell_type": "code",
   "execution_count": 91,
   "id": "5cd38bc0",
   "metadata": {},
   "outputs": [],
   "source": [
    "#split the data into train and test\n",
    "n_rows = final_df.shape[0]\n",
    "split = int(n_rows * 0.8)\n",
    "train_d = final_df.iloc[:split]\n",
    "test_d = final_df.iloc[split:]"
   ]
  },
  {
   "cell_type": "code",
   "execution_count": 92,
   "id": "88ab8647",
   "metadata": {},
   "outputs": [],
   "source": [
    "train_ =train_d.reset_index()\n",
    "Xtrain = train_.drop(columns=['sales', 'date'])\n",
    "ytrain = train_['sales']"
   ]
  },
  {
   "cell_type": "code",
   "execution_count": 93,
   "id": "e86f7de1",
   "metadata": {},
   "outputs": [],
   "source": [
    "test_ = test_d.reset_index()\n",
    "Xtest = test_.drop(columns=['sales', 'date'])\n",
    "ytest = test_['sales']"
   ]
  },
  {
   "cell_type": "markdown",
   "id": "7ffb7719",
   "metadata": {},
   "source": [
    "# Model Selection"
   ]
  },
  {
   "cell_type": "markdown",
   "id": "25afee74",
   "metadata": {},
   "source": [
    "### Linear Regression"
   ]
  },
  {
   "cell_type": "code",
   "execution_count": 94,
   "id": "059378c6",
   "metadata": {},
   "outputs": [],
   "source": [
    "lin_model = LinearRegression()\n",
    "model_lin = lin_model.fit(Xtrain, ytrain)"
   ]
  },
  {
   "cell_type": "code",
   "execution_count": 95,
   "id": "c5fd5a88",
   "metadata": {},
   "outputs": [],
   "source": [
    "# Make prediction on X_test\n",
    "lin_pred = model_lin.predict(Xtest)"
   ]
  },
  {
   "cell_type": "code",
   "execution_count": 96,
   "id": "5712734f",
   "metadata": {},
   "outputs": [
    {
     "data": {
      "image/png": "[encoded data removed]",
      "text/plain": [
       "<Figure size 864x576 with 1 Axes>"
      ]
     },
     "metadata": {},
     "output_type": "display_data"
    }
   ],
   "source": [
    "plt.figure(figsize=(12,8))\n",
    "plt.plot(ytest, label ='Actual Sales')\n",
    "plt.plot(lin_pred, label='Linear Regression')\n",
    "plt.legend(loc='best')\n",
    "plt.title('Linear Regression Prediction')\n",
    "plt.show()"
   ]
  },
  {
   "cell_type": "code",
   "execution_count": 97,
   "id": "085db379",
   "metadata": {},
   "outputs": [
    {
     "data": {
      "text/html": [
       "<div>\n",
       "<style scoped>\n",
       "    .dataframe tbody tr th:only-of-type {\n",
       "        vertical-align: middle;\n",
       "    }\n",
       "\n",
       "    .dataframe tbody tr th {\n",
       "        vertical-align: top;\n",
       "    }\n",
       "\n",
       "    .dataframe thead th {\n",
       "        text-align: right;\n",
       "    }\n",
       "</style>\n",
       "<table border=\"1\" class=\"dataframe\">\n",
       "  <thead>\n",
       "    <tr style=\"text-align: right;\">\n",
       "      <th></th>\n",
       "      <th>Model</th>\n",
       "      <th>MSE</th>\n",
       "      <th>MSLE</th>\n",
       "      <th>RMSE</th>\n",
       "      <th>RMSLE</th>\n",
       "    </tr>\n",
       "  </thead>\n",
       "  <tbody>\n",
       "    <tr>\n",
       "      <th>0</th>\n",
       "      <td>Linear</td>\n",
       "      <td>0.68</td>\n",
       "      <td>0.154649</td>\n",
       "      <td>0.82</td>\n",
       "      <td>0.39</td>\n",
       "    </tr>\n",
       "  </tbody>\n",
       "</table>\n",
       "</div>"
      ],
      "text/plain": [
       "    Model   MSE      MSLE  RMSE  RMSLE\n",
       "0  Linear  0.68  0.154649  0.82   0.39"
      ]
     },
     "execution_count": 97,
     "metadata": {},
     "output_type": "execute_result"
    }
   ],
   "source": [
    "mse = mean_squared_error(ytest, lin_pred ).round(2)\n",
    "msle = mean_squared_log_error(ytest, lin_pred)\n",
    "rmse = np.sqrt(mean_squared_error(ytest, lin_pred )).round(2)\n",
    "rmsle = np.sqrt(mean_squared_log_error(ytest, lin_pred)).round(2)\n",
    "\n",
    "model_results = pd.DataFrame([['Linear', mse, msle, rmse, rmsle]], columns = ['Model', 'MSE', 'MSLE', 'RMSE', 'RMSLE'])\n",
    "model_results"
   ]
  },
  {
   "cell_type": "markdown",
   "id": "62aa7a5c",
   "metadata": {},
   "source": [
    "### Decision Tree"
   ]
  },
  {
   "cell_type": "code",
   "execution_count": 98,
   "id": "552fe630",
   "metadata": {},
   "outputs": [],
   "source": [
    "decision_tree = DecisionTreeRegressor()\n",
    "model_dtree = decision_tree.fit(Xtrain, ytrain)"
   ]
  },
  {
   "cell_type": "code",
   "execution_count": 99,
   "id": "fcf94a4c",
   "metadata": {},
   "outputs": [],
   "source": [
    "# Make prediction\n",
    "tree_pred = model_dtree.predict(Xtest)"
   ]
  },
  {
   "cell_type": "code",
   "execution_count": 100,
   "id": "f1e02629",
   "metadata": {},
   "outputs": [
    {
     "data": {
      "image/png": "[encoded data removed]",
      "text/plain": [
       "<Figure size 864x576 with 1 Axes>"
      ]
     },
     "metadata": {},
     "output_type": "display_data"
    }
   ],
   "source": [
    "plt.figure(figsize=(12,8))\n",
    "plt.plot(ytest, label ='Actual Sales')\n",
    "plt.plot(tree_pred, label='Decision Tree Prediction')\n",
    "plt.legend(loc='best')\n",
    "plt.title('Decision Prediction')\n",
    "plt.show()"
   ]
  },
  {
   "cell_type": "code",
   "execution_count": 101,
   "id": "dc1afc28",
   "metadata": {},
   "outputs": [
    {
     "data": {
      "text/html": [
       "<div>\n",
       "<style scoped>\n",
       "    .dataframe tbody tr th:only-of-type {\n",
       "        vertical-align: middle;\n",
       "    }\n",
       "\n",
       "    .dataframe tbody tr th {\n",
       "        vertical-align: top;\n",
       "    }\n",
       "\n",
       "    .dataframe thead th {\n",
       "        text-align: right;\n",
       "    }\n",
       "</style>\n",
       "<table border=\"1\" class=\"dataframe\">\n",
       "  <thead>\n",
       "    <tr style=\"text-align: right;\">\n",
       "      <th></th>\n",
       "      <th>Model</th>\n",
       "      <th>MSE</th>\n",
       "      <th>MSLE</th>\n",
       "      <th>RMSE</th>\n",
       "      <th>RMSLE</th>\n",
       "    </tr>\n",
       "  </thead>\n",
       "  <tbody>\n",
       "    <tr>\n",
       "      <th>0</th>\n",
       "      <td>Decision Tree</td>\n",
       "      <td>0.386469</td>\n",
       "      <td>0.092922</td>\n",
       "      <td>0.62</td>\n",
       "      <td>0.3</td>\n",
       "    </tr>\n",
       "  </tbody>\n",
       "</table>\n",
       "</div>"
      ],
      "text/plain": [
       "           Model       MSE      MSLE  RMSE  RMSLE\n",
       "0  Decision Tree  0.386469  0.092922  0.62    0.3"
      ]
     },
     "execution_count": 101,
     "metadata": {},
     "output_type": "execute_result"
    }
   ],
   "source": [
    "mse = mean_squared_error(ytest, tree_pred )\n",
    "msle = mean_squared_log_error(ytest, tree_pred)\n",
    "rmse = np.sqrt(mean_squared_error(ytest, tree_pred )).round(2)\n",
    "rmsle = np.sqrt(mean_squared_log_error(ytest, tree_pred)).round(2)\n",
    "\n",
    "results = pd.DataFrame([['Decision Tree', mse, msle, rmse, rmsle]], columns = ['Model', 'MSE', 'MSLE', 'RMSE', 'RMSLE'])\n",
    "results"
   ]
  },
  {
   "cell_type": "markdown",
   "id": "57a9b55d",
   "metadata": {},
   "source": [
    "### Random Forest"
   ]
  },
  {
   "cell_type": "code",
   "execution_count": 102,
   "id": "828933d0",
   "metadata": {},
   "outputs": [
    {
     "data": {
      "text/plain": [
       "RandomForestRegressor(random_state=0)"
      ]
     },
     "execution_count": 102,
     "metadata": {},
     "output_type": "execute_result"
    }
   ],
   "source": [
    "Tree_random = RandomForestRegressor(random_state=0)\n",
    "Tree_random.fit(Xtrain, ytrain)"
   ]
  },
  {
   "cell_type": "code",
   "execution_count": 103,
   "id": "525f648d",
   "metadata": {},
   "outputs": [],
   "source": [
    "rand_tree__predict = Tree_random.predict(Xtest)"
   ]
  },
  {
   "cell_type": "code",
   "execution_count": 104,
   "id": "b075557c",
   "metadata": {},
   "outputs": [
    {
     "data": {
      "image/png": "[encoded data removed]",
      "text/plain": [
       "<Figure size 864x576 with 1 Axes>"
      ]
     },
     "metadata": {},
     "output_type": "display_data"
    }
   ],
   "source": [
    "plt.figure(figsize=(12,8))\n",
    "plt.plot(ytest, label ='Actual Sales')\n",
    "plt.plot(rand_tree__predict, label='Random Forest Regressor')\n",
    "plt.legend(loc='best')\n",
    "plt.title('Random Forest Prediction')\n",
    "plt.show()"
   ]
  },
  {
   "cell_type": "code",
   "execution_count": 105,
   "id": "ed45c6ff",
   "metadata": {},
   "outputs": [
    {
     "data": {
      "text/html": [
       "<div>\n",
       "<style scoped>\n",
       "    .dataframe tbody tr th:only-of-type {\n",
       "        vertical-align: middle;\n",
       "    }\n",
       "\n",
       "    .dataframe tbody tr th {\n",
       "        vertical-align: top;\n",
       "    }\n",
       "\n",
       "    .dataframe thead th {\n",
       "        text-align: right;\n",
       "    }\n",
       "</style>\n",
       "<table border=\"1\" class=\"dataframe\">\n",
       "  <thead>\n",
       "    <tr style=\"text-align: right;\">\n",
       "      <th></th>\n",
       "      <th>Model</th>\n",
       "      <th>MSE</th>\n",
       "      <th>MSLE</th>\n",
       "      <th>RMSE</th>\n",
       "      <th>RMSLE</th>\n",
       "    </tr>\n",
       "  </thead>\n",
       "  <tbody>\n",
       "    <tr>\n",
       "      <th>0</th>\n",
       "      <td>Random Forest</td>\n",
       "      <td>0.255807</td>\n",
       "      <td>0.053891</td>\n",
       "      <td>0.505774</td>\n",
       "      <td>0.232145</td>\n",
       "    </tr>\n",
       "  </tbody>\n",
       "</table>\n",
       "</div>"
      ],
      "text/plain": [
       "           Model       MSE      MSLE      RMSE     RMSLE\n",
       "0  Random Forest  0.255807  0.053891  0.505774  0.232145"
      ]
     },
     "execution_count": 105,
     "metadata": {},
     "output_type": "execute_result"
    }
   ],
   "source": [
    "mse = mean_squared_error(ytest, rand_tree__predict )\n",
    "msle = mean_squared_log_error(ytest, rand_tree__predict)\n",
    "rmse = np.sqrt(mean_squared_error(ytest, rand_tree__predict))\n",
    "rmsle = np.sqrt(mean_squared_log_error(ytest, rand_tree__predict))\n",
    "\n",
    "model_results = pd.DataFrame([['Random Forest', mse, msle, rmse, rmsle]], columns = ['Model', 'MSE', 'MSLE', 'RMSE', 'RMSLE'])\n",
    "model_results"
   ]
  },
  {
   "cell_type": "markdown",
   "id": "d6030029",
   "metadata": {},
   "source": [
    "<b> From the results of the 3 models used above, we choose the Random Forest Regressor as the baseline model.<b>\n",
    "    \n",
    "    It has a very good RMSLE score which makes it a strong model.\n",
    "    \n",
    "    No further tuning was done on the model."
   ]
  },
  {
   "cell_type": "markdown",
   "id": "074e154d",
   "metadata": {},
   "source": [
    "## Model evaluation"
   ]
  },
  {
   "cell_type": "code",
   "execution_count": 106,
   "id": "e9aec533",
   "metadata": {},
   "outputs": [],
   "source": [
    "store_data['store_nbr']= store_data['store_nbr'].astype(str)\n",
    "test_data['store_nbr']= test_data['store_nbr'].astype(str)"
   ]
  },
  {
   "cell_type": "code",
   "execution_count": 107,
   "id": "50198ee0",
   "metadata": {},
   "outputs": [],
   "source": [
    "def prepareTestData(df):\n",
    "    test_data = getDateFeatures(df, 'date')\n",
    "    train_store = test_data.merge(store_data, how='left', on=['store_nbr'])\n",
    "    all_data = train_store.merge(holidays_events, how='left', on=['date'])\n",
    "    all_data['day_type'] = all_data.apply(dayType, axis=1)\n",
    "    all_data.replace({'locale': {np.nan: 'None'},\n",
    "                  'locale_name': {np.nan: 'None'},\n",
    "                  'transferred': {np.nan: False}}, inplace=True)\n",
    "    cols = ['family', 'city', 'state', 'type', 'locale', 'locale_name', 'day_type', 'transferred']\n",
    "\n",
    "    for col in cols:\n",
    "        all_data[col] = encoder.fit_transform(all_data[col])\n",
    "    \n",
    "    return all_data"
   ]
  },
  {
   "cell_type": "code",
   "execution_count": 108,
   "id": "c76c9c58",
   "metadata": {},
   "outputs": [],
   "source": [
    "test_d = prepareTestData(test_data)"
   ]
  },
  {
   "cell_type": "code",
   "execution_count": 109,
   "id": "a6976b27",
   "metadata": {},
   "outputs": [],
   "source": [
    "#working on the promotion column\n",
    "min_p = test_d['onpromotion'].min()\n",
    "max_p = test_d['onpromotion'].max()\n",
    "\n",
    "#add bins to deal with the different values\n",
    "bins = np.arange(min_p, max_p, (max_p - min_p)/5)\n",
    "labels = [f\"bin_{i}\" for i in range(len(bins) -1)]\n",
    "\n",
    "test_d['promotion'] = pd.cut(test_d['onpromotion'], bins = bins, labels = labels)\n",
    "\n",
    "#using the mode to fill in missing values in promotion column\n",
    "mode = test_d['promotion'].mode()[0]\n",
    "test_d['promotion'].fillna(mode, inplace=True)\n",
    "\n",
    "promotion_encoder = LabelEncoder()\n",
    "test_d['promotion'] = promotion_encoder.fit_transform(test_d['promotion'])"
   ]
  },
  {
   "cell_type": "code",
   "execution_count": 110,
   "id": "e98e401f",
   "metadata": {},
   "outputs": [],
   "source": [
    "test_d = test_d.set_index('date')\n",
    "test_d = test_d.resample('D').mean()\n",
    "\n",
    "test1_d = test_d.copy()\n",
    "test1_d.reset_index(inplace=True)\n",
    "\n",
    "\n",
    "test1_d.fillna(0, inplace=True)\n",
    "scaler = StandardScaler()\n",
    "test1_d[test1_d.columns[1:]]= scaler.fit_transform(test1_d[test1_d.columns[1:]])\n"
   ]
  },
  {
   "cell_type": "code",
   "execution_count": 111,
   "id": "5c6605d6",
   "metadata": {},
   "outputs": [],
   "source": [
    "#test_drop_columns = ['id', 'description', 'holiday_type']\n",
    "test_drop_columns = ['id']"
   ]
  },
  {
   "cell_type": "code",
   "execution_count": 112,
   "id": "11356c56",
   "metadata": {},
   "outputs": [],
   "source": [
    "test2_d = test1_d.drop(columns=test_drop_columns)"
   ]
  },
  {
   "cell_type": "code",
   "execution_count": 113,
   "id": "c9b36145",
   "metadata": {},
   "outputs": [],
   "source": [
    "y_test = pd.DataFrame(test2_d, columns = test2_d.columns)\n",
    "y_test.set_index('date', inplace=True)\n",
    "y_test = abs(y_test)"
   ]
  },
  {
   "cell_type": "code",
   "execution_count": 114,
   "id": "a087677e",
   "metadata": {},
   "outputs": [],
   "source": [
    "predict = Tree_random.predict(y_test)"
   ]
  },
  {
   "cell_type": "code",
   "execution_count": 115,
   "id": "dd8e0b15",
   "metadata": {},
   "outputs": [],
   "source": [
    "test1_d['sales'] = predict"
   ]
  },
  {
   "cell_type": "code",
   "execution_count": 116,
   "id": "d17e9ed4",
   "metadata": {},
   "outputs": [],
   "source": [
    "test1_d[['id', 'sales']].to_csv('submission.csv', index=False)"
   ]
  }
 ],
 "metadata": {
  "kernelspec": {
   "display_name": "Python 3 (ipykernel)",
   "language": "python",
   "name": "python3"
  },
  "language_info": {
   "codemirror_mode": {
    "name": "ipython",
    "version": 3
   },
   "file_extension": ".py",
   "mimetype": "text/x-python",
   "name": "python",
   "nbconvert_exporter": "python",
   "pygments_lexer": "ipython3",
   "version": "3.9.12"
  }
 },
 "nbformat": 4,
 "nbformat_minor": 5
}
